{
 "cells": [
  {
   "cell_type": "code",
   "execution_count": 29,
   "metadata": {},
   "outputs": [],
   "source": [
    "import imgaug as ia\n",
    "from imgaug import augmenters as iaa\n",
    "import os\n",
    "import imageio"
   ]
  },
  {
   "cell_type": "code",
   "execution_count": 30,
   "metadata": {},
   "outputs": [],
   "source": [
    "input_dir = '/Users/haidary/Desktop/dataverse/train/infected'\n",
    "output_dir = '/Users/haidary/Desktop/new_data/train/infected'"
   ]
  },
  {
   "cell_type": "code",
   "execution_count": 31,
   "metadata": {},
   "outputs": [],
   "source": [
    "# Create an image augmentation sequence\n",
    "seq = iaa.Sequential([\n",
    "    iaa.Fliplr(0.5),  # horizontal flipping with 50% probability\n",
    "    #iaa.Flipud(0.5),  # vertical flipping with 50% probability\n",
    "    iaa.Rotate((-20, 20)),  # rotation between -45 and 45 degrees\n",
    "    iaa.Multiply((0.75, 1.25)),  # brightness alteration with 50% probability (kant abl 0.5, 1.5)\n",
    "    #iaa.Crop(percent=(0, 0.1))  # random cropping with 10% probability\n",
    "    #iaa.Affine(translate_percent={\"x\": (-0.2, 0.2), \"y\": (-0.2, 0.2)})  # random translation with 20% probability\n",
    "])"
   ]
  },
  {
   "cell_type": "code",
   "execution_count": 32,
   "metadata": {},
   "outputs": [
    {
     "name": "stderr",
     "output_type": "stream",
     "text": [
      "/var/folders/r5/rzwwvkmn4d1ct04qpbz7ft180000gn/T/ipykernel_51006/2522681182.py:6: DeprecationWarning: Starting with ImageIO v3 the behavior of this function will switch to that of iio.v3.imread. To keep the current behavior (and make this warning disappear) use `import imageio.v2 as imageio` or call `imageio.v2.imread` directly.\n",
      "  image = imageio.imread(os.path.join(input_dir, filename))\n"
     ]
    }
   ],
   "source": [
    "# Iterate over the files in the input directory\n",
    "for filename in os.listdir(input_dir):\n",
    "  if filename == '.DS_Store':\n",
    "    continue\n",
    "  # Load the image\n",
    "  image = imageio.imread(os.path.join(input_dir, filename))\n",
    "\n",
    "  # Generate 10 variations of the image using the image augmentation sequence\n",
    "  for i in range(29):\n",
    "    augmented_image = seq.augment_image(image)\n",
    "\n",
    "    # Save the augmented image to the output directory\n",
    "    imageio.imwrite(os.path.join(output_dir, f\"{i}_{filename}\"), augmented_image)"
   ]
  }
 ],
 "metadata": {
  "kernelspec": {
   "display_name": "Python 3",
   "language": "python",
   "name": "python3"
  },
  "language_info": {
   "codemirror_mode": {
    "name": "ipython",
    "version": 3
   },
   "file_extension": ".py",
   "mimetype": "text/x-python",
   "name": "python",
   "nbconvert_exporter": "python",
   "pygments_lexer": "ipython3",
   "version": "3.8.13"
  },
  "orig_nbformat": 4,
  "vscode": {
   "interpreter": {
    "hash": "8aad807abad45dae87e14c1dd977b7af81b3738779aa17e040c3b542fa7d40b6"
   }
  }
 },
 "nbformat": 4,
 "nbformat_minor": 2
}
