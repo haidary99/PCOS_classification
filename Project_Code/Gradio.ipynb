{
  "nbformat": 4,
  "nbformat_minor": 0,
  "metadata": {
    "colab": {
      "provenance": [],
      "gpuType": "T4"
    },
    "kernelspec": {
      "name": "python3",
      "display_name": "Python 3"
    },
    "language_info": {
      "name": "python"
    },
    "gpuClass": "standard",
    "widgets": {
      "application/vnd.jupyter.widget-state+json": {
        "1e39ae8642ac42d9957d04d4a3aad51f": {
          "model_module": "@jupyter-widgets/controls",
          "model_name": "HBoxModel",
          "model_module_version": "1.5.0",
          "state": {
            "_dom_classes": [],
            "_model_module": "@jupyter-widgets/controls",
            "_model_module_version": "1.5.0",
            "_model_name": "HBoxModel",
            "_view_count": null,
            "_view_module": "@jupyter-widgets/controls",
            "_view_module_version": "1.5.0",
            "_view_name": "HBoxView",
            "box_style": "",
            "children": [
              "IPY_MODEL_d76afeab68a145f4941c8e2d70e90cb9",
              "IPY_MODEL_315c076d14c84905914da3cbdcfe837c",
              "IPY_MODEL_5b882b9d7c914622935ffe82773ee989"
            ],
            "layout": "IPY_MODEL_ef4ba08a92694ff3b94c2e95b25951e5"
          }
        },
        "d76afeab68a145f4941c8e2d70e90cb9": {
          "model_module": "@jupyter-widgets/controls",
          "model_name": "HTMLModel",
          "model_module_version": "1.5.0",
          "state": {
            "_dom_classes": [],
            "_model_module": "@jupyter-widgets/controls",
            "_model_module_version": "1.5.0",
            "_model_name": "HTMLModel",
            "_view_count": null,
            "_view_module": "@jupyter-widgets/controls",
            "_view_module_version": "1.5.0",
            "_view_name": "HTMLView",
            "description": "",
            "description_tooltip": null,
            "layout": "IPY_MODEL_c776566673ad4c6e8e895f6cf141e440",
            "placeholder": "​",
            "style": "IPY_MODEL_4bf9bca7b4c14a5e87ad7df6336627b5",
            "value": "100%"
          }
        },
        "315c076d14c84905914da3cbdcfe837c": {
          "model_module": "@jupyter-widgets/controls",
          "model_name": "FloatProgressModel",
          "model_module_version": "1.5.0",
          "state": {
            "_dom_classes": [],
            "_model_module": "@jupyter-widgets/controls",
            "_model_module_version": "1.5.0",
            "_model_name": "FloatProgressModel",
            "_view_count": null,
            "_view_module": "@jupyter-widgets/controls",
            "_view_module_version": "1.5.0",
            "_view_name": "ProgressView",
            "bar_style": "success",
            "description": "",
            "description_tooltip": null,
            "layout": "IPY_MODEL_4dec69b14f31478baacf74c4fdb25033",
            "max": 252,
            "min": 0,
            "orientation": "horizontal",
            "style": "IPY_MODEL_f724ed34eb8a40dfb9eab1c25990c4cb",
            "value": 252
          }
        },
        "5b882b9d7c914622935ffe82773ee989": {
          "model_module": "@jupyter-widgets/controls",
          "model_name": "HTMLModel",
          "model_module_version": "1.5.0",
          "state": {
            "_dom_classes": [],
            "_model_module": "@jupyter-widgets/controls",
            "_model_module_version": "1.5.0",
            "_model_name": "HTMLModel",
            "_view_count": null,
            "_view_module": "@jupyter-widgets/controls",
            "_view_module_version": "1.5.0",
            "_view_name": "HTMLView",
            "description": "",
            "description_tooltip": null,
            "layout": "IPY_MODEL_f4cedd4138224507b50f3b2e6b954aa3",
            "placeholder": "​",
            "style": "IPY_MODEL_74aea382a33041d78385e41cd2158fbb",
            "value": " 252/252 [02:18&lt;00:00,  1.51it/s]"
          }
        },
        "ef4ba08a92694ff3b94c2e95b25951e5": {
          "model_module": "@jupyter-widgets/base",
          "model_name": "LayoutModel",
          "model_module_version": "1.2.0",
          "state": {
            "_model_module": "@jupyter-widgets/base",
            "_model_module_version": "1.2.0",
            "_model_name": "LayoutModel",
            "_view_count": null,
            "_view_module": "@jupyter-widgets/base",
            "_view_module_version": "1.2.0",
            "_view_name": "LayoutView",
            "align_content": null,
            "align_items": null,
            "align_self": null,
            "border": null,
            "bottom": null,
            "display": null,
            "flex": null,
            "flex_flow": null,
            "grid_area": null,
            "grid_auto_columns": null,
            "grid_auto_flow": null,
            "grid_auto_rows": null,
            "grid_column": null,
            "grid_gap": null,
            "grid_row": null,
            "grid_template_areas": null,
            "grid_template_columns": null,
            "grid_template_rows": null,
            "height": null,
            "justify_content": null,
            "justify_items": null,
            "left": null,
            "margin": null,
            "max_height": null,
            "max_width": null,
            "min_height": null,
            "min_width": null,
            "object_fit": null,
            "object_position": null,
            "order": null,
            "overflow": null,
            "overflow_x": null,
            "overflow_y": null,
            "padding": null,
            "right": null,
            "top": null,
            "visibility": null,
            "width": null
          }
        },
        "c776566673ad4c6e8e895f6cf141e440": {
          "model_module": "@jupyter-widgets/base",
          "model_name": "LayoutModel",
          "model_module_version": "1.2.0",
          "state": {
            "_model_module": "@jupyter-widgets/base",
            "_model_module_version": "1.2.0",
            "_model_name": "LayoutModel",
            "_view_count": null,
            "_view_module": "@jupyter-widgets/base",
            "_view_module_version": "1.2.0",
            "_view_name": "LayoutView",
            "align_content": null,
            "align_items": null,
            "align_self": null,
            "border": null,
            "bottom": null,
            "display": null,
            "flex": null,
            "flex_flow": null,
            "grid_area": null,
            "grid_auto_columns": null,
            "grid_auto_flow": null,
            "grid_auto_rows": null,
            "grid_column": null,
            "grid_gap": null,
            "grid_row": null,
            "grid_template_areas": null,
            "grid_template_columns": null,
            "grid_template_rows": null,
            "height": null,
            "justify_content": null,
            "justify_items": null,
            "left": null,
            "margin": null,
            "max_height": null,
            "max_width": null,
            "min_height": null,
            "min_width": null,
            "object_fit": null,
            "object_position": null,
            "order": null,
            "overflow": null,
            "overflow_x": null,
            "overflow_y": null,
            "padding": null,
            "right": null,
            "top": null,
            "visibility": null,
            "width": null
          }
        },
        "4bf9bca7b4c14a5e87ad7df6336627b5": {
          "model_module": "@jupyter-widgets/controls",
          "model_name": "DescriptionStyleModel",
          "model_module_version": "1.5.0",
          "state": {
            "_model_module": "@jupyter-widgets/controls",
            "_model_module_version": "1.5.0",
            "_model_name": "DescriptionStyleModel",
            "_view_count": null,
            "_view_module": "@jupyter-widgets/base",
            "_view_module_version": "1.2.0",
            "_view_name": "StyleView",
            "description_width": ""
          }
        },
        "4dec69b14f31478baacf74c4fdb25033": {
          "model_module": "@jupyter-widgets/base",
          "model_name": "LayoutModel",
          "model_module_version": "1.2.0",
          "state": {
            "_model_module": "@jupyter-widgets/base",
            "_model_module_version": "1.2.0",
            "_model_name": "LayoutModel",
            "_view_count": null,
            "_view_module": "@jupyter-widgets/base",
            "_view_module_version": "1.2.0",
            "_view_name": "LayoutView",
            "align_content": null,
            "align_items": null,
            "align_self": null,
            "border": null,
            "bottom": null,
            "display": null,
            "flex": null,
            "flex_flow": null,
            "grid_area": null,
            "grid_auto_columns": null,
            "grid_auto_flow": null,
            "grid_auto_rows": null,
            "grid_column": null,
            "grid_gap": null,
            "grid_row": null,
            "grid_template_areas": null,
            "grid_template_columns": null,
            "grid_template_rows": null,
            "height": null,
            "justify_content": null,
            "justify_items": null,
            "left": null,
            "margin": null,
            "max_height": null,
            "max_width": null,
            "min_height": null,
            "min_width": null,
            "object_fit": null,
            "object_position": null,
            "order": null,
            "overflow": null,
            "overflow_x": null,
            "overflow_y": null,
            "padding": null,
            "right": null,
            "top": null,
            "visibility": null,
            "width": null
          }
        },
        "f724ed34eb8a40dfb9eab1c25990c4cb": {
          "model_module": "@jupyter-widgets/controls",
          "model_name": "ProgressStyleModel",
          "model_module_version": "1.5.0",
          "state": {
            "_model_module": "@jupyter-widgets/controls",
            "_model_module_version": "1.5.0",
            "_model_name": "ProgressStyleModel",
            "_view_count": null,
            "_view_module": "@jupyter-widgets/base",
            "_view_module_version": "1.2.0",
            "_view_name": "StyleView",
            "bar_color": null,
            "description_width": ""
          }
        },
        "f4cedd4138224507b50f3b2e6b954aa3": {
          "model_module": "@jupyter-widgets/base",
          "model_name": "LayoutModel",
          "model_module_version": "1.2.0",
          "state": {
            "_model_module": "@jupyter-widgets/base",
            "_model_module_version": "1.2.0",
            "_model_name": "LayoutModel",
            "_view_count": null,
            "_view_module": "@jupyter-widgets/base",
            "_view_module_version": "1.2.0",
            "_view_name": "LayoutView",
            "align_content": null,
            "align_items": null,
            "align_self": null,
            "border": null,
            "bottom": null,
            "display": null,
            "flex": null,
            "flex_flow": null,
            "grid_area": null,
            "grid_auto_columns": null,
            "grid_auto_flow": null,
            "grid_auto_rows": null,
            "grid_column": null,
            "grid_gap": null,
            "grid_row": null,
            "grid_template_areas": null,
            "grid_template_columns": null,
            "grid_template_rows": null,
            "height": null,
            "justify_content": null,
            "justify_items": null,
            "left": null,
            "margin": null,
            "max_height": null,
            "max_width": null,
            "min_height": null,
            "min_width": null,
            "object_fit": null,
            "object_position": null,
            "order": null,
            "overflow": null,
            "overflow_x": null,
            "overflow_y": null,
            "padding": null,
            "right": null,
            "top": null,
            "visibility": null,
            "width": null
          }
        },
        "74aea382a33041d78385e41cd2158fbb": {
          "model_module": "@jupyter-widgets/controls",
          "model_name": "DescriptionStyleModel",
          "model_module_version": "1.5.0",
          "state": {
            "_model_module": "@jupyter-widgets/controls",
            "_model_module_version": "1.5.0",
            "_model_name": "DescriptionStyleModel",
            "_view_count": null,
            "_view_module": "@jupyter-widgets/base",
            "_view_module_version": "1.2.0",
            "_view_name": "StyleView",
            "description_width": ""
          }
        },
        "1f0f519331184a44af252b7aade10260": {
          "model_module": "@jupyter-widgets/controls",
          "model_name": "HBoxModel",
          "model_module_version": "1.5.0",
          "state": {
            "_dom_classes": [],
            "_model_module": "@jupyter-widgets/controls",
            "_model_module_version": "1.5.0",
            "_model_name": "HBoxModel",
            "_view_count": null,
            "_view_module": "@jupyter-widgets/controls",
            "_view_module_version": "1.5.0",
            "_view_name": "HBoxView",
            "box_style": "",
            "children": [
              "IPY_MODEL_6ea9c59adc724c2fb1599dc89c82fcd4",
              "IPY_MODEL_9ccf6748950340df8a42de6cd0b51f72",
              "IPY_MODEL_282471d28f1c497680fc22b1685e9bff"
            ],
            "layout": "IPY_MODEL_13a5692dd3034dfdab72544d9c95fc8d"
          }
        },
        "6ea9c59adc724c2fb1599dc89c82fcd4": {
          "model_module": "@jupyter-widgets/controls",
          "model_name": "HTMLModel",
          "model_module_version": "1.5.0",
          "state": {
            "_dom_classes": [],
            "_model_module": "@jupyter-widgets/controls",
            "_model_module_version": "1.5.0",
            "_model_name": "HTMLModel",
            "_view_count": null,
            "_view_module": "@jupyter-widgets/controls",
            "_view_module_version": "1.5.0",
            "_view_name": "HTMLView",
            "description": "",
            "description_tooltip": null,
            "layout": "IPY_MODEL_c927a5e5402840e0a6e4260e94596e4b",
            "placeholder": "​",
            "style": "IPY_MODEL_e1f77bfc4e3d4aca9c2f0a9e69ef03a3",
            "value": "100%"
          }
        },
        "9ccf6748950340df8a42de6cd0b51f72": {
          "model_module": "@jupyter-widgets/controls",
          "model_name": "FloatProgressModel",
          "model_module_version": "1.5.0",
          "state": {
            "_dom_classes": [],
            "_model_module": "@jupyter-widgets/controls",
            "_model_module_version": "1.5.0",
            "_model_name": "FloatProgressModel",
            "_view_count": null,
            "_view_module": "@jupyter-widgets/controls",
            "_view_module_version": "1.5.0",
            "_view_name": "ProgressView",
            "bar_style": "success",
            "description": "",
            "description_tooltip": null,
            "layout": "IPY_MODEL_6ff5ab1b0c3e48f4a0e97ffd373f2beb",
            "max": 252,
            "min": 0,
            "orientation": "horizontal",
            "style": "IPY_MODEL_02a18fa5de124a0887a77adb0180c744",
            "value": 252
          }
        },
        "282471d28f1c497680fc22b1685e9bff": {
          "model_module": "@jupyter-widgets/controls",
          "model_name": "HTMLModel",
          "model_module_version": "1.5.0",
          "state": {
            "_dom_classes": [],
            "_model_module": "@jupyter-widgets/controls",
            "_model_module_version": "1.5.0",
            "_model_name": "HTMLModel",
            "_view_count": null,
            "_view_module": "@jupyter-widgets/controls",
            "_view_module_version": "1.5.0",
            "_view_name": "HTMLView",
            "description": "",
            "description_tooltip": null,
            "layout": "IPY_MODEL_69e4aa5af7b84d23956d1dcbcdddd717",
            "placeholder": "​",
            "style": "IPY_MODEL_a262076406c84c3996fd191f9544cff9",
            "value": " 252/252 [01:03&lt;00:00,  5.51it/s]"
          }
        },
        "13a5692dd3034dfdab72544d9c95fc8d": {
          "model_module": "@jupyter-widgets/base",
          "model_name": "LayoutModel",
          "model_module_version": "1.2.0",
          "state": {
            "_model_module": "@jupyter-widgets/base",
            "_model_module_version": "1.2.0",
            "_model_name": "LayoutModel",
            "_view_count": null,
            "_view_module": "@jupyter-widgets/base",
            "_view_module_version": "1.2.0",
            "_view_name": "LayoutView",
            "align_content": null,
            "align_items": null,
            "align_self": null,
            "border": null,
            "bottom": null,
            "display": null,
            "flex": null,
            "flex_flow": null,
            "grid_area": null,
            "grid_auto_columns": null,
            "grid_auto_flow": null,
            "grid_auto_rows": null,
            "grid_column": null,
            "grid_gap": null,
            "grid_row": null,
            "grid_template_areas": null,
            "grid_template_columns": null,
            "grid_template_rows": null,
            "height": null,
            "justify_content": null,
            "justify_items": null,
            "left": null,
            "margin": null,
            "max_height": null,
            "max_width": null,
            "min_height": null,
            "min_width": null,
            "object_fit": null,
            "object_position": null,
            "order": null,
            "overflow": null,
            "overflow_x": null,
            "overflow_y": null,
            "padding": null,
            "right": null,
            "top": null,
            "visibility": null,
            "width": null
          }
        },
        "c927a5e5402840e0a6e4260e94596e4b": {
          "model_module": "@jupyter-widgets/base",
          "model_name": "LayoutModel",
          "model_module_version": "1.2.0",
          "state": {
            "_model_module": "@jupyter-widgets/base",
            "_model_module_version": "1.2.0",
            "_model_name": "LayoutModel",
            "_view_count": null,
            "_view_module": "@jupyter-widgets/base",
            "_view_module_version": "1.2.0",
            "_view_name": "LayoutView",
            "align_content": null,
            "align_items": null,
            "align_self": null,
            "border": null,
            "bottom": null,
            "display": null,
            "flex": null,
            "flex_flow": null,
            "grid_area": null,
            "grid_auto_columns": null,
            "grid_auto_flow": null,
            "grid_auto_rows": null,
            "grid_column": null,
            "grid_gap": null,
            "grid_row": null,
            "grid_template_areas": null,
            "grid_template_columns": null,
            "grid_template_rows": null,
            "height": null,
            "justify_content": null,
            "justify_items": null,
            "left": null,
            "margin": null,
            "max_height": null,
            "max_width": null,
            "min_height": null,
            "min_width": null,
            "object_fit": null,
            "object_position": null,
            "order": null,
            "overflow": null,
            "overflow_x": null,
            "overflow_y": null,
            "padding": null,
            "right": null,
            "top": null,
            "visibility": null,
            "width": null
          }
        },
        "e1f77bfc4e3d4aca9c2f0a9e69ef03a3": {
          "model_module": "@jupyter-widgets/controls",
          "model_name": "DescriptionStyleModel",
          "model_module_version": "1.5.0",
          "state": {
            "_model_module": "@jupyter-widgets/controls",
            "_model_module_version": "1.5.0",
            "_model_name": "DescriptionStyleModel",
            "_view_count": null,
            "_view_module": "@jupyter-widgets/base",
            "_view_module_version": "1.2.0",
            "_view_name": "StyleView",
            "description_width": ""
          }
        },
        "6ff5ab1b0c3e48f4a0e97ffd373f2beb": {
          "model_module": "@jupyter-widgets/base",
          "model_name": "LayoutModel",
          "model_module_version": "1.2.0",
          "state": {
            "_model_module": "@jupyter-widgets/base",
            "_model_module_version": "1.2.0",
            "_model_name": "LayoutModel",
            "_view_count": null,
            "_view_module": "@jupyter-widgets/base",
            "_view_module_version": "1.2.0",
            "_view_name": "LayoutView",
            "align_content": null,
            "align_items": null,
            "align_self": null,
            "border": null,
            "bottom": null,
            "display": null,
            "flex": null,
            "flex_flow": null,
            "grid_area": null,
            "grid_auto_columns": null,
            "grid_auto_flow": null,
            "grid_auto_rows": null,
            "grid_column": null,
            "grid_gap": null,
            "grid_row": null,
            "grid_template_areas": null,
            "grid_template_columns": null,
            "grid_template_rows": null,
            "height": null,
            "justify_content": null,
            "justify_items": null,
            "left": null,
            "margin": null,
            "max_height": null,
            "max_width": null,
            "min_height": null,
            "min_width": null,
            "object_fit": null,
            "object_position": null,
            "order": null,
            "overflow": null,
            "overflow_x": null,
            "overflow_y": null,
            "padding": null,
            "right": null,
            "top": null,
            "visibility": null,
            "width": null
          }
        },
        "02a18fa5de124a0887a77adb0180c744": {
          "model_module": "@jupyter-widgets/controls",
          "model_name": "ProgressStyleModel",
          "model_module_version": "1.5.0",
          "state": {
            "_model_module": "@jupyter-widgets/controls",
            "_model_module_version": "1.5.0",
            "_model_name": "ProgressStyleModel",
            "_view_count": null,
            "_view_module": "@jupyter-widgets/base",
            "_view_module_version": "1.2.0",
            "_view_name": "StyleView",
            "bar_color": null,
            "description_width": ""
          }
        },
        "69e4aa5af7b84d23956d1dcbcdddd717": {
          "model_module": "@jupyter-widgets/base",
          "model_name": "LayoutModel",
          "model_module_version": "1.2.0",
          "state": {
            "_model_module": "@jupyter-widgets/base",
            "_model_module_version": "1.2.0",
            "_model_name": "LayoutModel",
            "_view_count": null,
            "_view_module": "@jupyter-widgets/base",
            "_view_module_version": "1.2.0",
            "_view_name": "LayoutView",
            "align_content": null,
            "align_items": null,
            "align_self": null,
            "border": null,
            "bottom": null,
            "display": null,
            "flex": null,
            "flex_flow": null,
            "grid_area": null,
            "grid_auto_columns": null,
            "grid_auto_flow": null,
            "grid_auto_rows": null,
            "grid_column": null,
            "grid_gap": null,
            "grid_row": null,
            "grid_template_areas": null,
            "grid_template_columns": null,
            "grid_template_rows": null,
            "height": null,
            "justify_content": null,
            "justify_items": null,
            "left": null,
            "margin": null,
            "max_height": null,
            "max_width": null,
            "min_height": null,
            "min_width": null,
            "object_fit": null,
            "object_position": null,
            "order": null,
            "overflow": null,
            "overflow_x": null,
            "overflow_y": null,
            "padding": null,
            "right": null,
            "top": null,
            "visibility": null,
            "width": null
          }
        },
        "a262076406c84c3996fd191f9544cff9": {
          "model_module": "@jupyter-widgets/controls",
          "model_name": "DescriptionStyleModel",
          "model_module_version": "1.5.0",
          "state": {
            "_model_module": "@jupyter-widgets/controls",
            "_model_module_version": "1.5.0",
            "_model_name": "DescriptionStyleModel",
            "_view_count": null,
            "_view_module": "@jupyter-widgets/base",
            "_view_module_version": "1.2.0",
            "_view_name": "StyleView",
            "description_width": ""
          }
        },
        "4cf4c6fc0a714edc8e9b84a64a6bb840": {
          "model_module": "@jupyter-widgets/controls",
          "model_name": "HBoxModel",
          "model_module_version": "1.5.0",
          "state": {
            "_dom_classes": [],
            "_model_module": "@jupyter-widgets/controls",
            "_model_module_version": "1.5.0",
            "_model_name": "HBoxModel",
            "_view_count": null,
            "_view_module": "@jupyter-widgets/controls",
            "_view_module_version": "1.5.0",
            "_view_name": "HBoxView",
            "box_style": "",
            "children": [
              "IPY_MODEL_101d04b8272a48d198b85d0a09eb1db1",
              "IPY_MODEL_e97c4fe2b8a54f98ab69dde71371b1f8",
              "IPY_MODEL_1f8b7db534054ee2899f460643905a78"
            ],
            "layout": "IPY_MODEL_eb0dea91ee994379b693919c52b9e6c2"
          }
        },
        "101d04b8272a48d198b85d0a09eb1db1": {
          "model_module": "@jupyter-widgets/controls",
          "model_name": "HTMLModel",
          "model_module_version": "1.5.0",
          "state": {
            "_dom_classes": [],
            "_model_module": "@jupyter-widgets/controls",
            "_model_module_version": "1.5.0",
            "_model_name": "HTMLModel",
            "_view_count": null,
            "_view_module": "@jupyter-widgets/controls",
            "_view_module_version": "1.5.0",
            "_view_name": "HTMLView",
            "description": "",
            "description_tooltip": null,
            "layout": "IPY_MODEL_430bb8ced1474fb8b0441a7fdb7f577b",
            "placeholder": "​",
            "style": "IPY_MODEL_64432585086c449daf8648a086738509",
            "value": "100%"
          }
        },
        "e97c4fe2b8a54f98ab69dde71371b1f8": {
          "model_module": "@jupyter-widgets/controls",
          "model_name": "FloatProgressModel",
          "model_module_version": "1.5.0",
          "state": {
            "_dom_classes": [],
            "_model_module": "@jupyter-widgets/controls",
            "_model_module_version": "1.5.0",
            "_model_name": "FloatProgressModel",
            "_view_count": null,
            "_view_module": "@jupyter-widgets/controls",
            "_view_module_version": "1.5.0",
            "_view_name": "ProgressView",
            "bar_style": "success",
            "description": "",
            "description_tooltip": null,
            "layout": "IPY_MODEL_9ccec3190c1d47799e4265d2157aafd2",
            "max": 252,
            "min": 0,
            "orientation": "horizontal",
            "style": "IPY_MODEL_c5e290cf12f2406f9fbf48054be17f32",
            "value": 252
          }
        },
        "1f8b7db534054ee2899f460643905a78": {
          "model_module": "@jupyter-widgets/controls",
          "model_name": "HTMLModel",
          "model_module_version": "1.5.0",
          "state": {
            "_dom_classes": [],
            "_model_module": "@jupyter-widgets/controls",
            "_model_module_version": "1.5.0",
            "_model_name": "HTMLModel",
            "_view_count": null,
            "_view_module": "@jupyter-widgets/controls",
            "_view_module_version": "1.5.0",
            "_view_name": "HTMLView",
            "description": "",
            "description_tooltip": null,
            "layout": "IPY_MODEL_fd22012ce17742f7906423c5dbff7b5c",
            "placeholder": "​",
            "style": "IPY_MODEL_5eff1f9ba8934e0aa0ef4ee15813d997",
            "value": " 252/252 [00:24&lt;00:00, 11.16it/s]"
          }
        },
        "eb0dea91ee994379b693919c52b9e6c2": {
          "model_module": "@jupyter-widgets/base",
          "model_name": "LayoutModel",
          "model_module_version": "1.2.0",
          "state": {
            "_model_module": "@jupyter-widgets/base",
            "_model_module_version": "1.2.0",
            "_model_name": "LayoutModel",
            "_view_count": null,
            "_view_module": "@jupyter-widgets/base",
            "_view_module_version": "1.2.0",
            "_view_name": "LayoutView",
            "align_content": null,
            "align_items": null,
            "align_self": null,
            "border": null,
            "bottom": null,
            "display": null,
            "flex": null,
            "flex_flow": null,
            "grid_area": null,
            "grid_auto_columns": null,
            "grid_auto_flow": null,
            "grid_auto_rows": null,
            "grid_column": null,
            "grid_gap": null,
            "grid_row": null,
            "grid_template_areas": null,
            "grid_template_columns": null,
            "grid_template_rows": null,
            "height": null,
            "justify_content": null,
            "justify_items": null,
            "left": null,
            "margin": null,
            "max_height": null,
            "max_width": null,
            "min_height": null,
            "min_width": null,
            "object_fit": null,
            "object_position": null,
            "order": null,
            "overflow": null,
            "overflow_x": null,
            "overflow_y": null,
            "padding": null,
            "right": null,
            "top": null,
            "visibility": null,
            "width": null
          }
        },
        "430bb8ced1474fb8b0441a7fdb7f577b": {
          "model_module": "@jupyter-widgets/base",
          "model_name": "LayoutModel",
          "model_module_version": "1.2.0",
          "state": {
            "_model_module": "@jupyter-widgets/base",
            "_model_module_version": "1.2.0",
            "_model_name": "LayoutModel",
            "_view_count": null,
            "_view_module": "@jupyter-widgets/base",
            "_view_module_version": "1.2.0",
            "_view_name": "LayoutView",
            "align_content": null,
            "align_items": null,
            "align_self": null,
            "border": null,
            "bottom": null,
            "display": null,
            "flex": null,
            "flex_flow": null,
            "grid_area": null,
            "grid_auto_columns": null,
            "grid_auto_flow": null,
            "grid_auto_rows": null,
            "grid_column": null,
            "grid_gap": null,
            "grid_row": null,
            "grid_template_areas": null,
            "grid_template_columns": null,
            "grid_template_rows": null,
            "height": null,
            "justify_content": null,
            "justify_items": null,
            "left": null,
            "margin": null,
            "max_height": null,
            "max_width": null,
            "min_height": null,
            "min_width": null,
            "object_fit": null,
            "object_position": null,
            "order": null,
            "overflow": null,
            "overflow_x": null,
            "overflow_y": null,
            "padding": null,
            "right": null,
            "top": null,
            "visibility": null,
            "width": null
          }
        },
        "64432585086c449daf8648a086738509": {
          "model_module": "@jupyter-widgets/controls",
          "model_name": "DescriptionStyleModel",
          "model_module_version": "1.5.0",
          "state": {
            "_model_module": "@jupyter-widgets/controls",
            "_model_module_version": "1.5.0",
            "_model_name": "DescriptionStyleModel",
            "_view_count": null,
            "_view_module": "@jupyter-widgets/base",
            "_view_module_version": "1.2.0",
            "_view_name": "StyleView",
            "description_width": ""
          }
        },
        "9ccec3190c1d47799e4265d2157aafd2": {
          "model_module": "@jupyter-widgets/base",
          "model_name": "LayoutModel",
          "model_module_version": "1.2.0",
          "state": {
            "_model_module": "@jupyter-widgets/base",
            "_model_module_version": "1.2.0",
            "_model_name": "LayoutModel",
            "_view_count": null,
            "_view_module": "@jupyter-widgets/base",
            "_view_module_version": "1.2.0",
            "_view_name": "LayoutView",
            "align_content": null,
            "align_items": null,
            "align_self": null,
            "border": null,
            "bottom": null,
            "display": null,
            "flex": null,
            "flex_flow": null,
            "grid_area": null,
            "grid_auto_columns": null,
            "grid_auto_flow": null,
            "grid_auto_rows": null,
            "grid_column": null,
            "grid_gap": null,
            "grid_row": null,
            "grid_template_areas": null,
            "grid_template_columns": null,
            "grid_template_rows": null,
            "height": null,
            "justify_content": null,
            "justify_items": null,
            "left": null,
            "margin": null,
            "max_height": null,
            "max_width": null,
            "min_height": null,
            "min_width": null,
            "object_fit": null,
            "object_position": null,
            "order": null,
            "overflow": null,
            "overflow_x": null,
            "overflow_y": null,
            "padding": null,
            "right": null,
            "top": null,
            "visibility": null,
            "width": null
          }
        },
        "c5e290cf12f2406f9fbf48054be17f32": {
          "model_module": "@jupyter-widgets/controls",
          "model_name": "ProgressStyleModel",
          "model_module_version": "1.5.0",
          "state": {
            "_model_module": "@jupyter-widgets/controls",
            "_model_module_version": "1.5.0",
            "_model_name": "ProgressStyleModel",
            "_view_count": null,
            "_view_module": "@jupyter-widgets/base",
            "_view_module_version": "1.2.0",
            "_view_name": "StyleView",
            "bar_color": null,
            "description_width": ""
          }
        },
        "fd22012ce17742f7906423c5dbff7b5c": {
          "model_module": "@jupyter-widgets/base",
          "model_name": "LayoutModel",
          "model_module_version": "1.2.0",
          "state": {
            "_model_module": "@jupyter-widgets/base",
            "_model_module_version": "1.2.0",
            "_model_name": "LayoutModel",
            "_view_count": null,
            "_view_module": "@jupyter-widgets/base",
            "_view_module_version": "1.2.0",
            "_view_name": "LayoutView",
            "align_content": null,
            "align_items": null,
            "align_self": null,
            "border": null,
            "bottom": null,
            "display": null,
            "flex": null,
            "flex_flow": null,
            "grid_area": null,
            "grid_auto_columns": null,
            "grid_auto_flow": null,
            "grid_auto_rows": null,
            "grid_column": null,
            "grid_gap": null,
            "grid_row": null,
            "grid_template_areas": null,
            "grid_template_columns": null,
            "grid_template_rows": null,
            "height": null,
            "justify_content": null,
            "justify_items": null,
            "left": null,
            "margin": null,
            "max_height": null,
            "max_width": null,
            "min_height": null,
            "min_width": null,
            "object_fit": null,
            "object_position": null,
            "order": null,
            "overflow": null,
            "overflow_x": null,
            "overflow_y": null,
            "padding": null,
            "right": null,
            "top": null,
            "visibility": null,
            "width": null
          }
        },
        "5eff1f9ba8934e0aa0ef4ee15813d997": {
          "model_module": "@jupyter-widgets/controls",
          "model_name": "DescriptionStyleModel",
          "model_module_version": "1.5.0",
          "state": {
            "_model_module": "@jupyter-widgets/controls",
            "_model_module_version": "1.5.0",
            "_model_name": "DescriptionStyleModel",
            "_view_count": null,
            "_view_module": "@jupyter-widgets/base",
            "_view_module_version": "1.2.0",
            "_view_name": "StyleView",
            "description_width": ""
          }
        }
      }
    }
  },
  "cells": [
    {
      "cell_type": "code",
      "execution_count": null,
      "metadata": {
        "id": "ew_JRBeesV9d",
        "colab": {
          "base_uri": "https://localhost:8080/"
        },
        "outputId": "3a9ba115-9036-4245-f935-a04fb3b62d32"
      },
      "outputs": [
        {
          "output_type": "stream",
          "name": "stdout",
          "text": [
            "Mounted at /content/driveG\n"
          ]
        }
      ],
      "source": [
        "from google.colab import drive\n",
        "drive.mount(\"/content/driveG\")"
      ]
    },
    {
      "cell_type": "code",
      "source": [
        "import torch\n",
        "import torchvision\n",
        "\n",
        "from torch import nn\n",
        "from torchvision import transforms\n",
        "from driveG.MyDrive.GP1.Graduation_Project_PCOS.going_modular import data_setup, engine\n",
        "import matplotlib"
      ],
      "metadata": {
        "id": "pjAT49u18otM"
      },
      "execution_count": null,
      "outputs": []
    },
    {
      "cell_type": "code",
      "source": [
        "# Try to get torchinfo, install it if it doesn't work\n",
        "try:\n",
        "    from torchinfo import summary\n",
        "except:\n",
        "    print(\"[INFO] Couldn't find torchinfo... installing it.\")\n",
        "    !pip install -q torchinfo\n",
        "    from torchinfo import summary\n",
        "\n",
        "\n",
        "##### Added this block on to the vscode file"
      ],
      "metadata": {
        "colab": {
          "base_uri": "https://localhost:8080/"
        },
        "id": "ubzlZNqa8rN3",
        "outputId": "e66133b3-46ac-432d-9a74-a6de166d3e77"
      },
      "execution_count": null,
      "outputs": [
        {
          "output_type": "stream",
          "name": "stdout",
          "text": [
            "[INFO] Couldn't find torchinfo... installing it.\n"
          ]
        }
      ]
    },
    {
      "cell_type": "code",
      "source": [
        "device = \"cuda\" if torch.cuda.is_available() else \"cpu\"\n",
        "device"
      ],
      "metadata": {
        "colab": {
          "base_uri": "https://localhost:8080/",
          "height": 39
        },
        "id": "iEKahRse8xNd",
        "outputId": "af4d6d40-36ba-40bf-c34b-590b7f64ebf6"
      },
      "execution_count": null,
      "outputs": [
        {
          "output_type": "execute_result",
          "data": {
            "text/plain": [
              "'cpu'"
            ],
            "application/vnd.google.colaboratory.intrinsic+json": {
              "type": "string"
            }
          },
          "metadata": {},
          "execution_count": 4
        }
      ]
    },
    {
      "cell_type": "code",
      "source": [
        "# Setup path to PCOS data directory\n",
        "from pathlib import Path\n",
        "\n",
        "data_path = Path(\"/content/driveG/MyDrive/GP1/After_Research_paper/DenseNet_Reimagined/\")\n",
        "image_path = data_path / \"newER_data\"\n",
        "if image_path.is_dir():\n",
        "    print(f\"{image_path} directory exists.\")\n",
        "else:\n",
        "    print(f\"{image_path} directory not found\")"
      ],
      "metadata": {
        "colab": {
          "base_uri": "https://localhost:8080/"
        },
        "id": "SURU8bT980nr",
        "outputId": "33caab7f-c937-4fb7-8597-63180b7fe0c7"
      },
      "execution_count": null,
      "outputs": [
        {
          "output_type": "stream",
          "name": "stdout",
          "text": [
            "/content/driveG/MyDrive/GP1/After_Research_paper/DenseNet_Reimagined/newER_data directory exists.\n"
          ]
        }
      ]
    },
    {
      "cell_type": "code",
      "source": [
        "# Setup Directories\n",
        "train_dir = image_path / \"train\"\n",
        "test_dir = image_path / \"validation\""
      ],
      "metadata": {
        "id": "2wJijroy86E5"
      },
      "execution_count": null,
      "outputs": []
    },
    {
      "cell_type": "markdown",
      "source": [
        "# Create transformations and Dataloaders"
      ],
      "metadata": {
        "id": "Gkpuc_R3aSuc"
      }
    },
    {
      "cell_type": "code",
      "source": [
        "# Create transforms pipeline manually (older method)\n",
        "manual_transforms = transforms.Compose([\n",
        "    transforms.Resize((224, 224)), # 1. Reshape all images to 224x224\n",
        "    transforms.ToTensor(), # Turn pixel values to between 0 & 1\n",
        "    transforms.Normalize(mean=[0.485, 0.456, 0.406], # 3. A mean of [0.485, 0.456, 0.406] (across each colour channel)\n",
        "                         std=[0.229, 0.224, 0.225]), # 4. A standard deviation of [0.229, 0.224, 0.225] (across each colour channel)\n",
        "    transforms.Grayscale() ##### change number of color channels from 3 to 1 (I added this)\n",
        "])"
      ],
      "metadata": {
        "id": "C2yeR7sCaXkS"
      },
      "execution_count": null,
      "outputs": []
    },
    {
      "cell_type": "code",
      "source": [
        "# Create training and testing DataLoaders as well as get a list of class names\n",
        "train_dataloader, test_dataloader, class_names = data_setup.create_dataloaders(train_dir=train_dir,\n",
        "                                                                               test_dir=test_dir,\n",
        "                                                                               transform=manual_transforms,\n",
        "                                                                               batch_size=32)\n",
        "train_dataloader, test_dataloader, class_names"
      ],
      "metadata": {
        "colab": {
          "base_uri": "https://localhost:8080/"
        },
        "id": "NTPmlW42abVK",
        "outputId": "d72a4525-06f1-4f11-9041-e7bd3706ba9f"
      },
      "execution_count": null,
      "outputs": [
        {
          "output_type": "execute_result",
          "data": {
            "text/plain": [
              "(<torch.utils.data.dataloader.DataLoader at 0x7f2f4ba2d690>,\n",
              " <torch.utils.data.dataloader.DataLoader at 0x7f2f4ba2ded0>,\n",
              " ['infected', 'notinfected'])"
            ]
          },
          "metadata": {},
          "execution_count": 8
        }
      ]
    },
    {
      "cell_type": "markdown",
      "source": [
        "# Loading my trained DenseNet201 model..."
      ],
      "metadata": {
        "id": "P1uGS0439H3f"
      }
    },
    {
      "cell_type": "code",
      "source": [
        "FILE = \"/content/driveG/MyDrive/GP1/After_Research_paper/DenseNet_Reimagined/DenseNet201_model0.pth\"\n",
        "Dense201 = torch.load(FILE, map_location=torch.device('cpu'))\n",
        "\n",
        "summary(Dense201,\n",
        "        input_size=(32, 1, 224, 224),\n",
        "        verbose=0,\n",
        "        col_names=[\"input_size\", \"output_size\", \"num_params\", \"trainable\"],\n",
        "        col_width=20,\n",
        "        row_settings=[\"var_names\"]\n",
        ")"
      ],
      "metadata": {
        "colab": {
          "base_uri": "https://localhost:8080/"
        },
        "id": "R8BQaZ5U9Hnl",
        "outputId": "886c28e8-5a39-49b4-f915-2f5fc05595f3"
      },
      "execution_count": null,
      "outputs": [
        {
          "output_type": "execute_result",
          "data": {
            "text/plain": [
              "=============================================================================================================================\n",
              "Layer (type (var_name))                       Input Shape          Output Shape         Param #              Trainable\n",
              "=============================================================================================================================\n",
              "DenseNet (DenseNet)                           [32, 1, 224, 224]    [32, 1]              --                   Partial\n",
              "├─Sequential (features)                       [32, 1, 224, 224]    [32, 1920, 7, 7]     --                   False\n",
              "│    └─Conv2d (conv0)                         [32, 1, 224, 224]    [32, 64, 112, 112]   (3,136)              False\n",
              "│    └─BatchNorm2d (norm0)                    [32, 64, 112, 112]   [32, 64, 112, 112]   (128)                False\n",
              "│    └─ReLU (relu0)                           [32, 64, 112, 112]   [32, 64, 112, 112]   --                   --\n",
              "│    └─MaxPool2d (pool0)                      [32, 64, 112, 112]   [32, 64, 56, 56]     --                   --\n",
              "│    └─_DenseBlock (denseblock1)              [32, 64, 56, 56]     [32, 256, 56, 56]    --                   False\n",
              "│    │    └─_DenseLayer (denselayer1)         [32, 64, 56, 56]     [32, 32, 56, 56]     (45,440)             False\n",
              "│    │    └─_DenseLayer (denselayer2)         [32, 64, 56, 56]     [32, 32, 56, 56]     (49,600)             False\n",
              "│    │    └─_DenseLayer (denselayer3)         [32, 64, 56, 56]     [32, 32, 56, 56]     (53,760)             False\n",
              "│    │    └─_DenseLayer (denselayer4)         [32, 64, 56, 56]     [32, 32, 56, 56]     (57,920)             False\n",
              "│    │    └─_DenseLayer (denselayer5)         [32, 64, 56, 56]     [32, 32, 56, 56]     (62,080)             False\n",
              "│    │    └─_DenseLayer (denselayer6)         [32, 64, 56, 56]     [32, 32, 56, 56]     (66,240)             False\n",
              "│    └─_Transition (transition1)              [32, 256, 56, 56]    [32, 128, 28, 28]    --                   False\n",
              "│    │    └─BatchNorm2d (norm)                [32, 256, 56, 56]    [32, 256, 56, 56]    (512)                False\n",
              "│    │    └─ReLU (relu)                       [32, 256, 56, 56]    [32, 256, 56, 56]    --                   --\n",
              "│    │    └─Conv2d (conv)                     [32, 256, 56, 56]    [32, 128, 56, 56]    (32,768)             False\n",
              "│    │    └─AvgPool2d (pool)                  [32, 128, 56, 56]    [32, 128, 28, 28]    --                   --\n",
              "│    └─_DenseBlock (denseblock2)              [32, 128, 28, 28]    [32, 512, 28, 28]    --                   False\n",
              "│    │    └─_DenseLayer (denselayer1)         [32, 128, 28, 28]    [32, 32, 28, 28]     (53,760)             False\n",
              "│    │    └─_DenseLayer (denselayer2)         [32, 128, 28, 28]    [32, 32, 28, 28]     (57,920)             False\n",
              "│    │    └─_DenseLayer (denselayer3)         [32, 128, 28, 28]    [32, 32, 28, 28]     (62,080)             False\n",
              "│    │    └─_DenseLayer (denselayer4)         [32, 128, 28, 28]    [32, 32, 28, 28]     (66,240)             False\n",
              "│    │    └─_DenseLayer (denselayer5)         [32, 128, 28, 28]    [32, 32, 28, 28]     (70,400)             False\n",
              "│    │    └─_DenseLayer (denselayer6)         [32, 128, 28, 28]    [32, 32, 28, 28]     (74,560)             False\n",
              "│    │    └─_DenseLayer (denselayer7)         [32, 128, 28, 28]    [32, 32, 28, 28]     (78,720)             False\n",
              "│    │    └─_DenseLayer (denselayer8)         [32, 128, 28, 28]    [32, 32, 28, 28]     (82,880)             False\n",
              "│    │    └─_DenseLayer (denselayer9)         [32, 128, 28, 28]    [32, 32, 28, 28]     (87,040)             False\n",
              "│    │    └─_DenseLayer (denselayer10)        [32, 128, 28, 28]    [32, 32, 28, 28]     (91,200)             False\n",
              "│    │    └─_DenseLayer (denselayer11)        [32, 128, 28, 28]    [32, 32, 28, 28]     (95,360)             False\n",
              "│    │    └─_DenseLayer (denselayer12)        [32, 128, 28, 28]    [32, 32, 28, 28]     (99,520)             False\n",
              "│    └─_Transition (transition2)              [32, 512, 28, 28]    [32, 256, 14, 14]    --                   False\n",
              "│    │    └─BatchNorm2d (norm)                [32, 512, 28, 28]    [32, 512, 28, 28]    (1,024)              False\n",
              "│    │    └─ReLU (relu)                       [32, 512, 28, 28]    [32, 512, 28, 28]    --                   --\n",
              "│    │    └─Conv2d (conv)                     [32, 512, 28, 28]    [32, 256, 28, 28]    (131,072)            False\n",
              "│    │    └─AvgPool2d (pool)                  [32, 256, 28, 28]    [32, 256, 14, 14]    --                   --\n",
              "│    └─_DenseBlock (denseblock3)              [32, 256, 14, 14]    [32, 1792, 14, 14]   --                   False\n",
              "│    │    └─_DenseLayer (denselayer1)         [32, 256, 14, 14]    [32, 32, 14, 14]     (70,400)             False\n",
              "│    │    └─_DenseLayer (denselayer2)         [32, 256, 14, 14]    [32, 32, 14, 14]     (74,560)             False\n",
              "│    │    └─_DenseLayer (denselayer3)         [32, 256, 14, 14]    [32, 32, 14, 14]     (78,720)             False\n",
              "│    │    └─_DenseLayer (denselayer4)         [32, 256, 14, 14]    [32, 32, 14, 14]     (82,880)             False\n",
              "│    │    └─_DenseLayer (denselayer5)         [32, 256, 14, 14]    [32, 32, 14, 14]     (87,040)             False\n",
              "│    │    └─_DenseLayer (denselayer6)         [32, 256, 14, 14]    [32, 32, 14, 14]     (91,200)             False\n",
              "│    │    └─_DenseLayer (denselayer7)         [32, 256, 14, 14]    [32, 32, 14, 14]     (95,360)             False\n",
              "│    │    └─_DenseLayer (denselayer8)         [32, 256, 14, 14]    [32, 32, 14, 14]     (99,520)             False\n",
              "│    │    └─_DenseLayer (denselayer9)         [32, 256, 14, 14]    [32, 32, 14, 14]     (103,680)            False\n",
              "│    │    └─_DenseLayer (denselayer10)        [32, 256, 14, 14]    [32, 32, 14, 14]     (107,840)            False\n",
              "│    │    └─_DenseLayer (denselayer11)        [32, 256, 14, 14]    [32, 32, 14, 14]     (112,000)            False\n",
              "│    │    └─_DenseLayer (denselayer12)        [32, 256, 14, 14]    [32, 32, 14, 14]     (116,160)            False\n",
              "│    │    └─_DenseLayer (denselayer13)        [32, 256, 14, 14]    [32, 32, 14, 14]     (120,320)            False\n",
              "│    │    └─_DenseLayer (denselayer14)        [32, 256, 14, 14]    [32, 32, 14, 14]     (124,480)            False\n",
              "│    │    └─_DenseLayer (denselayer15)        [32, 256, 14, 14]    [32, 32, 14, 14]     (128,640)            False\n",
              "│    │    └─_DenseLayer (denselayer16)        [32, 256, 14, 14]    [32, 32, 14, 14]     (132,800)            False\n",
              "│    │    └─_DenseLayer (denselayer17)        [32, 256, 14, 14]    [32, 32, 14, 14]     (136,960)            False\n",
              "│    │    └─_DenseLayer (denselayer18)        [32, 256, 14, 14]    [32, 32, 14, 14]     (141,120)            False\n",
              "│    │    └─_DenseLayer (denselayer19)        [32, 256, 14, 14]    [32, 32, 14, 14]     (145,280)            False\n",
              "│    │    └─_DenseLayer (denselayer20)        [32, 256, 14, 14]    [32, 32, 14, 14]     (149,440)            False\n",
              "│    │    └─_DenseLayer (denselayer21)        [32, 256, 14, 14]    [32, 32, 14, 14]     (153,600)            False\n",
              "│    │    └─_DenseLayer (denselayer22)        [32, 256, 14, 14]    [32, 32, 14, 14]     (157,760)            False\n",
              "│    │    └─_DenseLayer (denselayer23)        [32, 256, 14, 14]    [32, 32, 14, 14]     (161,920)            False\n",
              "│    │    └─_DenseLayer (denselayer24)        [32, 256, 14, 14]    [32, 32, 14, 14]     (166,080)            False\n",
              "│    │    └─_DenseLayer (denselayer25)        [32, 256, 14, 14]    [32, 32, 14, 14]     (170,240)            False\n",
              "│    │    └─_DenseLayer (denselayer26)        [32, 256, 14, 14]    [32, 32, 14, 14]     (174,400)            False\n",
              "│    │    └─_DenseLayer (denselayer27)        [32, 256, 14, 14]    [32, 32, 14, 14]     (178,560)            False\n",
              "│    │    └─_DenseLayer (denselayer28)        [32, 256, 14, 14]    [32, 32, 14, 14]     (182,720)            False\n",
              "│    │    └─_DenseLayer (denselayer29)        [32, 256, 14, 14]    [32, 32, 14, 14]     (186,880)            False\n",
              "│    │    └─_DenseLayer (denselayer30)        [32, 256, 14, 14]    [32, 32, 14, 14]     (191,040)            False\n",
              "│    │    └─_DenseLayer (denselayer31)        [32, 256, 14, 14]    [32, 32, 14, 14]     (195,200)            False\n",
              "│    │    └─_DenseLayer (denselayer32)        [32, 256, 14, 14]    [32, 32, 14, 14]     (199,360)            False\n",
              "│    │    └─_DenseLayer (denselayer33)        [32, 256, 14, 14]    [32, 32, 14, 14]     (203,520)            False\n",
              "│    │    └─_DenseLayer (denselayer34)        [32, 256, 14, 14]    [32, 32, 14, 14]     (207,680)            False\n",
              "│    │    └─_DenseLayer (denselayer35)        [32, 256, 14, 14]    [32, 32, 14, 14]     (211,840)            False\n",
              "│    │    └─_DenseLayer (denselayer36)        [32, 256, 14, 14]    [32, 32, 14, 14]     (216,000)            False\n",
              "│    │    └─_DenseLayer (denselayer37)        [32, 256, 14, 14]    [32, 32, 14, 14]     (220,160)            False\n",
              "│    │    └─_DenseLayer (denselayer38)        [32, 256, 14, 14]    [32, 32, 14, 14]     (224,320)            False\n",
              "│    │    └─_DenseLayer (denselayer39)        [32, 256, 14, 14]    [32, 32, 14, 14]     (228,480)            False\n",
              "│    │    └─_DenseLayer (denselayer40)        [32, 256, 14, 14]    [32, 32, 14, 14]     (232,640)            False\n",
              "│    │    └─_DenseLayer (denselayer41)        [32, 256, 14, 14]    [32, 32, 14, 14]     (236,800)            False\n",
              "│    │    └─_DenseLayer (denselayer42)        [32, 256, 14, 14]    [32, 32, 14, 14]     (240,960)            False\n",
              "│    │    └─_DenseLayer (denselayer43)        [32, 256, 14, 14]    [32, 32, 14, 14]     (245,120)            False\n",
              "│    │    └─_DenseLayer (denselayer44)        [32, 256, 14, 14]    [32, 32, 14, 14]     (249,280)            False\n",
              "│    │    └─_DenseLayer (denselayer45)        [32, 256, 14, 14]    [32, 32, 14, 14]     (253,440)            False\n",
              "│    │    └─_DenseLayer (denselayer46)        [32, 256, 14, 14]    [32, 32, 14, 14]     (257,600)            False\n",
              "│    │    └─_DenseLayer (denselayer47)        [32, 256, 14, 14]    [32, 32, 14, 14]     (261,760)            False\n",
              "│    │    └─_DenseLayer (denselayer48)        [32, 256, 14, 14]    [32, 32, 14, 14]     (265,920)            False\n",
              "│    └─_Transition (transition3)              [32, 1792, 14, 14]   [32, 896, 7, 7]      --                   False\n",
              "│    │    └─BatchNorm2d (norm)                [32, 1792, 14, 14]   [32, 1792, 14, 14]   (3,584)              False\n",
              "│    │    └─ReLU (relu)                       [32, 1792, 14, 14]   [32, 1792, 14, 14]   --                   --\n",
              "│    │    └─Conv2d (conv)                     [32, 1792, 14, 14]   [32, 896, 14, 14]    (1,605,632)          False\n",
              "│    │    └─AvgPool2d (pool)                  [32, 896, 14, 14]    [32, 896, 7, 7]      --                   --\n",
              "│    └─_DenseBlock (denseblock4)              [32, 896, 7, 7]      [32, 1920, 7, 7]     --                   False\n",
              "│    │    └─_DenseLayer (denselayer1)         [32, 896, 7, 7]      [32, 32, 7, 7]       (153,600)            False\n",
              "│    │    └─_DenseLayer (denselayer2)         [32, 896, 7, 7]      [32, 32, 7, 7]       (157,760)            False\n",
              "│    │    └─_DenseLayer (denselayer3)         [32, 896, 7, 7]      [32, 32, 7, 7]       (161,920)            False\n",
              "│    │    └─_DenseLayer (denselayer4)         [32, 896, 7, 7]      [32, 32, 7, 7]       (166,080)            False\n",
              "│    │    └─_DenseLayer (denselayer5)         [32, 896, 7, 7]      [32, 32, 7, 7]       (170,240)            False\n",
              "│    │    └─_DenseLayer (denselayer6)         [32, 896, 7, 7]      [32, 32, 7, 7]       (174,400)            False\n",
              "│    │    └─_DenseLayer (denselayer7)         [32, 896, 7, 7]      [32, 32, 7, 7]       (178,560)            False\n",
              "│    │    └─_DenseLayer (denselayer8)         [32, 896, 7, 7]      [32, 32, 7, 7]       (182,720)            False\n",
              "│    │    └─_DenseLayer (denselayer9)         [32, 896, 7, 7]      [32, 32, 7, 7]       (186,880)            False\n",
              "│    │    └─_DenseLayer (denselayer10)        [32, 896, 7, 7]      [32, 32, 7, 7]       (191,040)            False\n",
              "│    │    └─_DenseLayer (denselayer11)        [32, 896, 7, 7]      [32, 32, 7, 7]       (195,200)            False\n",
              "│    │    └─_DenseLayer (denselayer12)        [32, 896, 7, 7]      [32, 32, 7, 7]       (199,360)            False\n",
              "│    │    └─_DenseLayer (denselayer13)        [32, 896, 7, 7]      [32, 32, 7, 7]       (203,520)            False\n",
              "│    │    └─_DenseLayer (denselayer14)        [32, 896, 7, 7]      [32, 32, 7, 7]       (207,680)            False\n",
              "│    │    └─_DenseLayer (denselayer15)        [32, 896, 7, 7]      [32, 32, 7, 7]       (211,840)            False\n",
              "│    │    └─_DenseLayer (denselayer16)        [32, 896, 7, 7]      [32, 32, 7, 7]       (216,000)            False\n",
              "│    │    └─_DenseLayer (denselayer17)        [32, 896, 7, 7]      [32, 32, 7, 7]       (220,160)            False\n",
              "│    │    └─_DenseLayer (denselayer18)        [32, 896, 7, 7]      [32, 32, 7, 7]       (224,320)            False\n",
              "│    │    └─_DenseLayer (denselayer19)        [32, 896, 7, 7]      [32, 32, 7, 7]       (228,480)            False\n",
              "│    │    └─_DenseLayer (denselayer20)        [32, 896, 7, 7]      [32, 32, 7, 7]       (232,640)            False\n",
              "│    │    └─_DenseLayer (denselayer21)        [32, 896, 7, 7]      [32, 32, 7, 7]       (236,800)            False\n",
              "│    │    └─_DenseLayer (denselayer22)        [32, 896, 7, 7]      [32, 32, 7, 7]       (240,960)            False\n",
              "│    │    └─_DenseLayer (denselayer23)        [32, 896, 7, 7]      [32, 32, 7, 7]       (245,120)            False\n",
              "│    │    └─_DenseLayer (denselayer24)        [32, 896, 7, 7]      [32, 32, 7, 7]       (249,280)            False\n",
              "│    │    └─_DenseLayer (denselayer25)        [32, 896, 7, 7]      [32, 32, 7, 7]       (253,440)            False\n",
              "│    │    └─_DenseLayer (denselayer26)        [32, 896, 7, 7]      [32, 32, 7, 7]       (257,600)            False\n",
              "│    │    └─_DenseLayer (denselayer27)        [32, 896, 7, 7]      [32, 32, 7, 7]       (261,760)            False\n",
              "│    │    └─_DenseLayer (denselayer28)        [32, 896, 7, 7]      [32, 32, 7, 7]       (265,920)            False\n",
              "│    │    └─_DenseLayer (denselayer29)        [32, 896, 7, 7]      [32, 32, 7, 7]       (270,080)            False\n",
              "│    │    └─_DenseLayer (denselayer30)        [32, 896, 7, 7]      [32, 32, 7, 7]       (274,240)            False\n",
              "│    │    └─_DenseLayer (denselayer31)        [32, 896, 7, 7]      [32, 32, 7, 7]       (278,400)            False\n",
              "│    │    └─_DenseLayer (denselayer32)        [32, 896, 7, 7]      [32, 32, 7, 7]       (282,560)            False\n",
              "│    └─BatchNorm2d (norm5)                    [32, 1920, 7, 7]     [32, 1920, 7, 7]     (3,840)              False\n",
              "├─Linear (classifier)                         [32, 1920]           [32, 1]              1,921                True\n",
              "=============================================================================================================================\n",
              "Total params: 18,088,577\n",
              "Trainable params: 1,921\n",
              "Non-trainable params: 18,086,656\n",
              "Total mult-adds (G): 134.75\n",
              "=============================================================================================================================\n",
              "Input size (MB): 6.42\n",
              "Forward/backward pass size (MB): 8334.84\n",
              "Params size (MB): 72.35\n",
              "Estimated Total Size (MB): 8413.61\n",
              "============================================================================================================================="
            ]
          },
          "metadata": {},
          "execution_count": 9
        }
      ]
    },
    {
      "cell_type": "markdown",
      "source": [
        "# How fast is our model at predicting?\n",
        "##One of the criteria for our deployed model is to be fast (30 FPS). Ideally, if we're deploying our PCOS detector model to a mobile device so doctors/people can upload photos of their Ultrasound images and identify it, we'd like the predictions to happen at real-time (~30 frames per second).\n",
        "## To find out how long each of our models take to performance inference, let's create a function called `pred_and_store()` to iterate over each of the test dataset images one by one and perform a prediction. We'll time each of the predictions as well as store the results in a common prediction format: a list of dictionaries (where each element in the list is a single prediction and each sinlge prediction is a dictionary)."
      ],
      "metadata": {
        "id": "x-LpvRSr91oI"
      }
    },
    {
      "cell_type": "markdown",
      "source": [
        "Note: We time the predictions one by one rather than by batch because when our model is deployed, it will likely only be making a prediction on one image at a time. As in, someone takes a photo and our model predicts on that single image."
      ],
      "metadata": {
        "id": "KRLyRD95_mf4"
      }
    },
    {
      "cell_type": "markdown",
      "source": [
        "## Since we'd like to make predictions across all the images in the test set, let's first get a list of all of the test image paths so we can iterate over them. To do so, we'll use Python's `pathlib.Path(\"target_dir\").glob(\"*/*.jpg\"))` to find all of the filepaths in a target directory with the extension .jpg (all of our test images)."
      ],
      "metadata": {
        "id": "aflpuNw7_yRf"
      }
    },
    {
      "cell_type": "code",
      "source": [
        "from pathlib import Path\n",
        "\n",
        "# Get all test data paths\n",
        "print(f\"[INFO] Finding all filepaths ending with '.jpg' in directory: {test_dir}\")\n",
        "test_data_paths = list(Path(test_dir).glob(\"*/*.jpg\"))\n",
        "test_data_paths[:5]"
      ],
      "metadata": {
        "colab": {
          "base_uri": "https://localhost:8080/"
        },
        "id": "orNDvKd29AWO",
        "outputId": "06e89f3e-06bc-4f5e-bb2b-9133644ed872"
      },
      "execution_count": null,
      "outputs": [
        {
          "output_type": "stream",
          "name": "stdout",
          "text": [
            "[INFO] Finding all filepaths ending with '.jpg' in directory: /content/driveG/MyDrive/GP1/After_Research_paper/DenseNet_Reimagined/newER_data/validation\n"
          ]
        },
        {
          "output_type": "execute_result",
          "data": {
            "text/plain": [
              "[PosixPath('/content/driveG/MyDrive/GP1/After_Research_paper/DenseNet_Reimagined/newER_data/validation/infected/pco_1.jpg'),\n",
              " PosixPath('/content/driveG/MyDrive/GP1/After_Research_paper/DenseNet_Reimagined/newER_data/validation/infected/pco_7.jpg'),\n",
              " PosixPath('/content/driveG/MyDrive/GP1/After_Research_paper/DenseNet_Reimagined/newER_data/validation/infected/pco_13.jpg'),\n",
              " PosixPath('/content/driveG/MyDrive/GP1/After_Research_paper/DenseNet_Reimagined/newER_data/validation/infected/pco_4.jpg'),\n",
              " PosixPath('/content/driveG/MyDrive/GP1/After_Research_paper/DenseNet_Reimagined/newER_data/validation/infected/19_pco_1.jpg')]"
            ]
          },
          "metadata": {},
          "execution_count": 10
        }
      ]
    },
    {
      "cell_type": "markdown",
      "source": [
        "Now we've got a list of our test image paths, let's get to work on our `pred_and_store()` function:\n",
        "\n",
        "1. Create a function that takes a list of paths, a trained PyTorch model, a series of transforms (to prepare images), a list of target class names and a target device.\n",
        "2. Create an empty list to store prediction dictionaries (we want the function to return a list of dictionaries, one for each prediction).\n",
        "3. Loop through the target input paths (steps 4-14 will happen inside the loop).\n",
        "4. Create an empty dictionary for each iteration in the loop to store prediction values per sample.\n",
        "5. Get the sample path and ground truth class name (we can do this by infering the class from the path).\n",
        "6. Start the prediction timer using Python's `timeit.default_timer()`.\n",
        "7. Open the image using `PIL.Image.open(path)`.\n",
        "8. Transform the image so it's capable of being used with the target model as well as add a batch dimension and send the image to the target device.\n",
        "9. Prepare the model for inference by sending it to the target device and turning on `eval()` mode.\n",
        "10. Turn on `torch.inference_mode()` and pass the target transformed image to the model and calculate the prediction probability using `torch.sigmoid()` and the target label using `torch.round()`.\n",
        "11. Add the prediction probability and prediction class to the prediction dictionary created in step 4. Also make sure the prediction probability is on the CPU so it can be used with non-GPU libraries such as NumPy and pandas for later inspection.\n",
        "12. End the prediction timer started in step 6 and add the time to the prediction dictionary created in step 4.\n",
        "13. See if the predicted class matches the ground truth class from step 5 and add the result to the prediction dictionary created in step 4.\n",
        "14. Append the updated prediction dictionary to the empty list of predictions created in step 2.\n",
        "15. Return the list of prediction dictionaries.\n",
        "\n",
        "\n"
      ],
      "metadata": {
        "id": "OF_IrvErDXw5"
      }
    },
    {
      "cell_type": "code",
      "source": [
        "from pathlib import Path\n",
        "import torch\n",
        "\n",
        "from PIL import Image\n",
        "from timeit import default_timer as timer\n",
        "from tqdm.auto import tqdm\n",
        "from typing import List, Dict\n",
        "\n",
        "# 1. Create a function to return a list of dictionaries with sample, truth label, prediction, prediction probability and prediction time\n",
        "def pred_and_store(paths: List[Path],\n",
        "                   model: torch.nn.Module,\n",
        "                   transform: torchvision.transforms,\n",
        "                   class_names: List[str],\n",
        "                   device: str = \"cuda\" if torch.cuda.is_available() else \"cpu\") -> List[Dict]:\n",
        "  # 2. create an empty list to store prediction dictionaries\n",
        "  pred_list = []\n",
        "  correct_preds_counter = 0\n",
        "\n",
        "  # 3. Loop through target paths\n",
        "  for path in tqdm(paths):\n",
        "\n",
        "    # 4. Create an empty dictionary to store prediction information for each sample\n",
        "    pred_dict = {}\n",
        "\n",
        "    # 5. Get the sample path and ground truth class name\n",
        "    pred_dict[\"image_path\"] = path\n",
        "    class_name = path.parent.stem\n",
        "    pred_dict[\"class_name\"] = class_name\n",
        "\n",
        "    # 6. Start the prediction timer\n",
        "    start_time = timer()\n",
        "\n",
        "    # 7. Open the image\n",
        "    img = Image.open(path)\n",
        "\n",
        "    # 8. Transform the image, add batch dimension and put image on target device\n",
        "    transformed_image = transform(img).unsqueeze(0).to(device)\n",
        "\n",
        "    # 9. Prepare model for inference by sending it to target device and turning on eval() mode\n",
        "    model.to(device)\n",
        "    model.eval()\n",
        "\n",
        "    # 10. Get prediction probability, prediction label and prediction class\n",
        "    with torch.inference_mode():\n",
        "      pred_logit = model(transformed_image).squeeze() # perform inference on target sample\n",
        "      pred_prob = torch.sigmoid(pred_logit) # turn logit into prediction probability\n",
        "      pred_label = torch.round(pred_prob) # turn prediction probability into prediction label\n",
        "      pred_label = pred_label.type(torch.int64) # I had to cast pred_label to int b/c the following line required pred_label to be int\n",
        "      #print(pred_label)\n",
        "      pred_class = class_names[pred_label.cpu()] # hardcode prediction class to be on CPU\n",
        "\n",
        "      # 11. Make sure things in the dictionary are on CPU (required for inspecting predictions later on)\n",
        "      pred_dict[\"pred_prob\"] = round(pred_prob.unsqueeze(0).max().cpu().item(), 4)\n",
        "      pred_dict[\"pred_class\"] = pred_class\n",
        "\n",
        "      # 12. End the timer and calculate time per pred\n",
        "      end_time = timer()\n",
        "      pred_dict[\"time_for_pred\"] = round(end_time - start_time, 4)\n",
        "\n",
        "    # 13. Does the pred match the true label?\n",
        "    pred_dict[\"correct\"] = class_name == pred_class\n",
        "\n",
        "    if class_name == pred_class:\n",
        "      correct_preds_counter += 1\n",
        "\n",
        "    # 14. Add the dictionary to the list of preds\n",
        "    pred_list.append(pred_dict)\n",
        "\n",
        "  print(f\"Out of {len(paths)} images, the model predicted {correct_preds_counter} correctly\")\n",
        "\n",
        "  # 15. Return list of prediction dictionaries\n",
        "  return pred_list"
      ],
      "metadata": {
        "id": "aR9wwF0VK6g1"
      },
      "execution_count": null,
      "outputs": []
    },
    {
      "cell_type": "markdown",
      "source": [
        "# Making and timing predictions with trained DenseNet201 using `pred_and_store()` :"
      ],
      "metadata": {
        "id": "l9UzKPhqX-qH"
      }
    },
    {
      "cell_type": "code",
      "source": [
        "DenseNet201_test_pred_dicts = pred_and_store(paths=test_data_paths,\n",
        "                                             model=Dense201,\n",
        "                                             transform=manual_transforms,\n",
        "                                             class_names=class_names,\n",
        "                                             device=\"cpu\") # Make predictions on CPU,  because when we deploy our model, we won't always have access to a \"cuda\" (GPU) device."
      ],
      "metadata": {
        "colab": {
          "base_uri": "https://localhost:8080/",
          "height": 67,
          "referenced_widgets": [
            "1e39ae8642ac42d9957d04d4a3aad51f",
            "d76afeab68a145f4941c8e2d70e90cb9",
            "315c076d14c84905914da3cbdcfe837c",
            "5b882b9d7c914622935ffe82773ee989",
            "ef4ba08a92694ff3b94c2e95b25951e5",
            "c776566673ad4c6e8e895f6cf141e440",
            "4bf9bca7b4c14a5e87ad7df6336627b5",
            "4dec69b14f31478baacf74c4fdb25033",
            "f724ed34eb8a40dfb9eab1c25990c4cb",
            "f4cedd4138224507b50f3b2e6b954aa3",
            "74aea382a33041d78385e41cd2158fbb"
          ]
        },
        "id": "i0htthSpYGDQ",
        "outputId": "99ef2622-fbad-412a-c5a9-af3629ea519f"
      },
      "execution_count": null,
      "outputs": [
        {
          "output_type": "display_data",
          "data": {
            "text/plain": [
              "  0%|          | 0/252 [00:00<?, ?it/s]"
            ],
            "application/vnd.jupyter.widget-view+json": {
              "version_major": 2,
              "version_minor": 0,
              "model_id": "1e39ae8642ac42d9957d04d4a3aad51f"
            }
          },
          "metadata": {}
        },
        {
          "output_type": "stream",
          "name": "stdout",
          "text": [
            "Out of 252 images, the model predicted 172 correctly\n"
          ]
        }
      ]
    },
    {
      "cell_type": "code",
      "source": [
        "# Inspect the last 2 prediction dictionaries\n",
        "DenseNet201_test_pred_dicts[-2:]"
      ],
      "metadata": {
        "colab": {
          "base_uri": "https://localhost:8080/"
        },
        "id": "G4yVdxPEfol8",
        "outputId": "e0695e15-adab-4451-ada2-16454480a75d"
      },
      "execution_count": null,
      "outputs": [
        {
          "output_type": "execute_result",
          "data": {
            "text/plain": [
              "[{'image_path': PosixPath('/content/driveG/MyDrive/GP1/After_Research_paper/DenseNet_Reimagined/newER_data/validation/notinfected/8_normal_10.jpg'),\n",
              "  'class_name': 'notinfected',\n",
              "  'pred_prob': 0.613,\n",
              "  'pred_class': 'notinfected',\n",
              "  'time_for_pred': 0.5847,\n",
              "  'correct': True},\n",
              " {'image_path': PosixPath('/content/driveG/MyDrive/GP1/After_Research_paper/DenseNet_Reimagined/newER_data/validation/notinfected/8_normal_38.jpg'),\n",
              "  'class_name': 'notinfected',\n",
              "  'pred_prob': 0.6026,\n",
              "  'pred_class': 'notinfected',\n",
              "  'time_for_pred': 0.6643,\n",
              "  'correct': True}]"
            ]
          },
          "metadata": {},
          "execution_count": 13
        }
      ]
    },
    {
      "cell_type": "markdown",
      "source": [
        "# Turn our list of dictionaries into a Pandas dataframe:"
      ],
      "metadata": {
        "id": "FDM1sUiqol6n"
      }
    },
    {
      "cell_type": "code",
      "source": [
        "import pandas as pd\n",
        "DenseNet201_test_pred_df = pd.DataFrame(DenseNet201_test_pred_dicts)\n",
        "DenseNet201_test_pred_df.tail()"
      ],
      "metadata": {
        "colab": {
          "base_uri": "https://localhost:8080/",
          "height": 206
        },
        "id": "kfobpTzSoqJ2",
        "outputId": "599a3ecb-71c5-440d-f394-a09a113ea6e2"
      },
      "execution_count": null,
      "outputs": [
        {
          "output_type": "execute_result",
          "data": {
            "text/plain": [
              "                                            image_path   class_name  \\\n",
              "247  /content/driveG/MyDrive/GP1/After_Research_pap...  notinfected   \n",
              "248  /content/driveG/MyDrive/GP1/After_Research_pap...  notinfected   \n",
              "249  /content/driveG/MyDrive/GP1/After_Research_pap...  notinfected   \n",
              "250  /content/driveG/MyDrive/GP1/After_Research_pap...  notinfected   \n",
              "251  /content/driveG/MyDrive/GP1/After_Research_pap...  notinfected   \n",
              "\n",
              "     pred_prob   pred_class  time_for_pred  correct  \n",
              "247     0.7081  notinfected         0.6507     True  \n",
              "248     0.8859  notinfected         0.6852     True  \n",
              "249     0.6413  notinfected         0.7197     True  \n",
              "250     0.6130  notinfected         0.5847     True  \n",
              "251     0.6026  notinfected         0.6643     True  "
            ],
            "text/html": [
              "\n",
              "  <div id=\"df-dc58e160-8dfc-4315-b2f3-1d3e65e28de0\">\n",
              "    <div class=\"colab-df-container\">\n",
              "      <div>\n",
              "<style scoped>\n",
              "    .dataframe tbody tr th:only-of-type {\n",
              "        vertical-align: middle;\n",
              "    }\n",
              "\n",
              "    .dataframe tbody tr th {\n",
              "        vertical-align: top;\n",
              "    }\n",
              "\n",
              "    .dataframe thead th {\n",
              "        text-align: right;\n",
              "    }\n",
              "</style>\n",
              "<table border=\"1\" class=\"dataframe\">\n",
              "  <thead>\n",
              "    <tr style=\"text-align: right;\">\n",
              "      <th></th>\n",
              "      <th>image_path</th>\n",
              "      <th>class_name</th>\n",
              "      <th>pred_prob</th>\n",
              "      <th>pred_class</th>\n",
              "      <th>time_for_pred</th>\n",
              "      <th>correct</th>\n",
              "    </tr>\n",
              "  </thead>\n",
              "  <tbody>\n",
              "    <tr>\n",
              "      <th>247</th>\n",
              "      <td>/content/driveG/MyDrive/GP1/After_Research_pap...</td>\n",
              "      <td>notinfected</td>\n",
              "      <td>0.7081</td>\n",
              "      <td>notinfected</td>\n",
              "      <td>0.6507</td>\n",
              "      <td>True</td>\n",
              "    </tr>\n",
              "    <tr>\n",
              "      <th>248</th>\n",
              "      <td>/content/driveG/MyDrive/GP1/After_Research_pap...</td>\n",
              "      <td>notinfected</td>\n",
              "      <td>0.8859</td>\n",
              "      <td>notinfected</td>\n",
              "      <td>0.6852</td>\n",
              "      <td>True</td>\n",
              "    </tr>\n",
              "    <tr>\n",
              "      <th>249</th>\n",
              "      <td>/content/driveG/MyDrive/GP1/After_Research_pap...</td>\n",
              "      <td>notinfected</td>\n",
              "      <td>0.6413</td>\n",
              "      <td>notinfected</td>\n",
              "      <td>0.7197</td>\n",
              "      <td>True</td>\n",
              "    </tr>\n",
              "    <tr>\n",
              "      <th>250</th>\n",
              "      <td>/content/driveG/MyDrive/GP1/After_Research_pap...</td>\n",
              "      <td>notinfected</td>\n",
              "      <td>0.6130</td>\n",
              "      <td>notinfected</td>\n",
              "      <td>0.5847</td>\n",
              "      <td>True</td>\n",
              "    </tr>\n",
              "    <tr>\n",
              "      <th>251</th>\n",
              "      <td>/content/driveG/MyDrive/GP1/After_Research_pap...</td>\n",
              "      <td>notinfected</td>\n",
              "      <td>0.6026</td>\n",
              "      <td>notinfected</td>\n",
              "      <td>0.6643</td>\n",
              "      <td>True</td>\n",
              "    </tr>\n",
              "  </tbody>\n",
              "</table>\n",
              "</div>\n",
              "      <button class=\"colab-df-convert\" onclick=\"convertToInteractive('df-dc58e160-8dfc-4315-b2f3-1d3e65e28de0')\"\n",
              "              title=\"Convert this dataframe to an interactive table.\"\n",
              "              style=\"display:none;\">\n",
              "        \n",
              "  <svg xmlns=\"http://www.w3.org/2000/svg\" height=\"24px\"viewBox=\"0 0 24 24\"\n",
              "       width=\"24px\">\n",
              "    <path d=\"M0 0h24v24H0V0z\" fill=\"none\"/>\n",
              "    <path d=\"M18.56 5.44l.94 2.06.94-2.06 2.06-.94-2.06-.94-.94-2.06-.94 2.06-2.06.94zm-11 1L8.5 8.5l.94-2.06 2.06-.94-2.06-.94L8.5 2.5l-.94 2.06-2.06.94zm10 10l.94 2.06.94-2.06 2.06-.94-2.06-.94-.94-2.06-.94 2.06-2.06.94z\"/><path d=\"M17.41 7.96l-1.37-1.37c-.4-.4-.92-.59-1.43-.59-.52 0-1.04.2-1.43.59L10.3 9.45l-7.72 7.72c-.78.78-.78 2.05 0 2.83L4 21.41c.39.39.9.59 1.41.59.51 0 1.02-.2 1.41-.59l7.78-7.78 2.81-2.81c.8-.78.8-2.07 0-2.86zM5.41 20L4 18.59l7.72-7.72 1.47 1.35L5.41 20z\"/>\n",
              "  </svg>\n",
              "      </button>\n",
              "      \n",
              "  <style>\n",
              "    .colab-df-container {\n",
              "      display:flex;\n",
              "      flex-wrap:wrap;\n",
              "      gap: 12px;\n",
              "    }\n",
              "\n",
              "    .colab-df-convert {\n",
              "      background-color: #E8F0FE;\n",
              "      border: none;\n",
              "      border-radius: 50%;\n",
              "      cursor: pointer;\n",
              "      display: none;\n",
              "      fill: #1967D2;\n",
              "      height: 32px;\n",
              "      padding: 0 0 0 0;\n",
              "      width: 32px;\n",
              "    }\n",
              "\n",
              "    .colab-df-convert:hover {\n",
              "      background-color: #E2EBFA;\n",
              "      box-shadow: 0px 1px 2px rgba(60, 64, 67, 0.3), 0px 1px 3px 1px rgba(60, 64, 67, 0.15);\n",
              "      fill: #174EA6;\n",
              "    }\n",
              "\n",
              "    [theme=dark] .colab-df-convert {\n",
              "      background-color: #3B4455;\n",
              "      fill: #D2E3FC;\n",
              "    }\n",
              "\n",
              "    [theme=dark] .colab-df-convert:hover {\n",
              "      background-color: #434B5C;\n",
              "      box-shadow: 0px 1px 3px 1px rgba(0, 0, 0, 0.15);\n",
              "      filter: drop-shadow(0px 1px 2px rgba(0, 0, 0, 0.3));\n",
              "      fill: #FFFFFF;\n",
              "    }\n",
              "  </style>\n",
              "\n",
              "      <script>\n",
              "        const buttonEl =\n",
              "          document.querySelector('#df-dc58e160-8dfc-4315-b2f3-1d3e65e28de0 button.colab-df-convert');\n",
              "        buttonEl.style.display =\n",
              "          google.colab.kernel.accessAllowed ? 'block' : 'none';\n",
              "\n",
              "        async function convertToInteractive(key) {\n",
              "          const element = document.querySelector('#df-dc58e160-8dfc-4315-b2f3-1d3e65e28de0');\n",
              "          const dataTable =\n",
              "            await google.colab.kernel.invokeFunction('convertToInteractive',\n",
              "                                                     [key], {});\n",
              "          if (!dataTable) return;\n",
              "\n",
              "          const docLinkHtml = 'Like what you see? Visit the ' +\n",
              "            '<a target=\"_blank\" href=https://colab.research.google.com/notebooks/data_table.ipynb>data table notebook</a>'\n",
              "            + ' to learn more about interactive tables.';\n",
              "          element.innerHTML = '';\n",
              "          dataTable['output_type'] = 'display_data';\n",
              "          await google.colab.output.renderOutput(dataTable, element);\n",
              "          const docLink = document.createElement('div');\n",
              "          docLink.innerHTML = docLinkHtml;\n",
              "          element.appendChild(docLink);\n",
              "        }\n",
              "      </script>\n",
              "    </div>\n",
              "  </div>\n",
              "  "
            ]
          },
          "metadata": {},
          "execution_count": 14
        }
      ]
    },
    {
      "cell_type": "markdown",
      "source": [
        "Look how easily those prediction dictionaries turn into a structured format we can perform analysis on. Such as finding how many predictions our DenseNet201 model got wrong."
      ],
      "metadata": {
        "id": "ViMepijxrrgi"
      }
    },
    {
      "cell_type": "code",
      "source": [
        "# Check number of correct predictions\n",
        "DenseNet201_test_pred_df.correct.value_counts()"
      ],
      "metadata": {
        "colab": {
          "base_uri": "https://localhost:8080/"
        },
        "id": "RVSMwSHCpMAq",
        "outputId": "76fdab3f-2740-425b-db19-889fa938c914"
      },
      "execution_count": null,
      "outputs": [
        {
          "output_type": "execute_result",
          "data": {
            "text/plain": [
              "True     172\n",
              "False     80\n",
              "Name: correct, dtype: int64"
            ]
          },
          "metadata": {},
          "execution_count": 15
        }
      ]
    },
    {
      "cell_type": "markdown",
      "source": [
        "So 80 wrong predictions out of 252. <br>\n",
        "What about average prediction time?"
      ],
      "metadata": {
        "id": "GbIhrbvdsBCa"
      }
    },
    {
      "cell_type": "code",
      "source": [
        "# Find the average time per prediction\n",
        "Dense201_average_time_per_pred = round(DenseNet201_test_pred_df.time_for_pred.mean(), 4)\n",
        "print(f\"DenseNet201 average time per prediction: {Dense201_average_time_per_pred} seconds\")"
      ],
      "metadata": {
        "colab": {
          "base_uri": "https://localhost:8080/"
        },
        "id": "pSkxXi1ysW_H",
        "outputId": "91d23aa7-19bb-4ae7-e839-34748efc7a3b"
      },
      "execution_count": null,
      "outputs": [
        {
          "output_type": "stream",
          "name": "stdout",
          "text": [
            "DenseNet201 average time per prediction: 0.5476 seconds\n"
          ]
        }
      ]
    },
    {
      "cell_type": "markdown",
      "source": [
        "## So the avg prediction time is 0.5476 seconds. However, it must be noted that the prediction time used on the CPU that colab offers is considerably slower than desktop CPUs (don't know about mobile CPUs)."
      ],
      "metadata": {
        "id": "jRzOjGhwt7ka"
      }
    },
    {
      "cell_type": "markdown",
      "source": [
        "***\n",
        "***\n",
        "***"
      ],
      "metadata": {
        "id": "beItlbPcAnHA"
      }
    },
    {
      "cell_type": "markdown",
      "source": [
        "# Repeating the same as above but with DenseNet121d that is trained from scratch..."
      ],
      "metadata": {
        "id": "H0fp9wmpBA0j"
      }
    },
    {
      "cell_type": "code",
      "source": [
        "!pip install timm==0.6.13"
      ],
      "metadata": {
        "colab": {
          "base_uri": "https://localhost:8080/"
        },
        "id": "P0c_fRH1Kydk",
        "outputId": "777acbf9-7422-42ea-ca39-30136f2c0d5c"
      },
      "execution_count": null,
      "outputs": [
        {
          "output_type": "stream",
          "name": "stdout",
          "text": [
            "Looking in indexes: https://pypi.org/simple, https://us-python.pkg.dev/colab-wheels/public/simple/\n",
            "Collecting timm==0.6.13\n",
            "  Downloading timm-0.6.13-py3-none-any.whl (549 kB)\n",
            "\u001b[2K     \u001b[90m━━━━━━━━━━━━━━━━━━━━━━━━━━━━━━━━━━━━━━\u001b[0m \u001b[32m549.1/549.1 kB\u001b[0m \u001b[31m19.1 MB/s\u001b[0m eta \u001b[36m0:00:00\u001b[0m\n",
            "\u001b[?25hRequirement already satisfied: torch>=1.7 in /usr/local/lib/python3.10/dist-packages (from timm==0.6.13) (2.0.1+cu118)\n",
            "Requirement already satisfied: torchvision in /usr/local/lib/python3.10/dist-packages (from timm==0.6.13) (0.15.2+cu118)\n",
            "Requirement already satisfied: pyyaml in /usr/local/lib/python3.10/dist-packages (from timm==0.6.13) (6.0)\n",
            "Collecting huggingface-hub (from timm==0.6.13)\n",
            "  Downloading huggingface_hub-0.14.1-py3-none-any.whl (224 kB)\n",
            "\u001b[2K     \u001b[90m━━━━━━━━━━━━━━━━━━━━━━━━━━━━━━━━━━━━━━\u001b[0m \u001b[32m224.5/224.5 kB\u001b[0m \u001b[31m20.5 MB/s\u001b[0m eta \u001b[36m0:00:00\u001b[0m\n",
            "\u001b[?25hRequirement already satisfied: filelock in /usr/local/lib/python3.10/dist-packages (from torch>=1.7->timm==0.6.13) (3.12.0)\n",
            "Requirement already satisfied: typing-extensions in /usr/local/lib/python3.10/dist-packages (from torch>=1.7->timm==0.6.13) (4.5.0)\n",
            "Requirement already satisfied: sympy in /usr/local/lib/python3.10/dist-packages (from torch>=1.7->timm==0.6.13) (1.11.1)\n",
            "Requirement already satisfied: networkx in /usr/local/lib/python3.10/dist-packages (from torch>=1.7->timm==0.6.13) (3.1)\n",
            "Requirement already satisfied: jinja2 in /usr/local/lib/python3.10/dist-packages (from torch>=1.7->timm==0.6.13) (3.1.2)\n",
            "Requirement already satisfied: triton==2.0.0 in /usr/local/lib/python3.10/dist-packages (from torch>=1.7->timm==0.6.13) (2.0.0)\n",
            "Requirement already satisfied: cmake in /usr/local/lib/python3.10/dist-packages (from triton==2.0.0->torch>=1.7->timm==0.6.13) (3.25.2)\n",
            "Requirement already satisfied: lit in /usr/local/lib/python3.10/dist-packages (from triton==2.0.0->torch>=1.7->timm==0.6.13) (16.0.5)\n",
            "Requirement already satisfied: fsspec in /usr/local/lib/python3.10/dist-packages (from huggingface-hub->timm==0.6.13) (2023.4.0)\n",
            "Requirement already satisfied: requests in /usr/local/lib/python3.10/dist-packages (from huggingface-hub->timm==0.6.13) (2.27.1)\n",
            "Requirement already satisfied: tqdm>=4.42.1 in /usr/local/lib/python3.10/dist-packages (from huggingface-hub->timm==0.6.13) (4.65.0)\n",
            "Requirement already satisfied: packaging>=20.9 in /usr/local/lib/python3.10/dist-packages (from huggingface-hub->timm==0.6.13) (23.1)\n",
            "Requirement already satisfied: numpy in /usr/local/lib/python3.10/dist-packages (from torchvision->timm==0.6.13) (1.22.4)\n",
            "Requirement already satisfied: pillow!=8.3.*,>=5.3.0 in /usr/local/lib/python3.10/dist-packages (from torchvision->timm==0.6.13) (8.4.0)\n",
            "Requirement already satisfied: MarkupSafe>=2.0 in /usr/local/lib/python3.10/dist-packages (from jinja2->torch>=1.7->timm==0.6.13) (2.1.2)\n",
            "Requirement already satisfied: urllib3<1.27,>=1.21.1 in /usr/local/lib/python3.10/dist-packages (from requests->huggingface-hub->timm==0.6.13) (1.26.15)\n",
            "Requirement already satisfied: certifi>=2017.4.17 in /usr/local/lib/python3.10/dist-packages (from requests->huggingface-hub->timm==0.6.13) (2022.12.7)\n",
            "Requirement already satisfied: charset-normalizer~=2.0.0 in /usr/local/lib/python3.10/dist-packages (from requests->huggingface-hub->timm==0.6.13) (2.0.12)\n",
            "Requirement already satisfied: idna<4,>=2.5 in /usr/local/lib/python3.10/dist-packages (from requests->huggingface-hub->timm==0.6.13) (3.4)\n",
            "Requirement already satisfied: mpmath>=0.19 in /usr/local/lib/python3.10/dist-packages (from sympy->torch>=1.7->timm==0.6.13) (1.3.0)\n",
            "Installing collected packages: huggingface-hub, timm\n",
            "Successfully installed huggingface-hub-0.14.1 timm-0.6.13\n"
          ]
        }
      ]
    },
    {
      "cell_type": "code",
      "source": [
        "import torch\n",
        "import timm\n",
        "\n",
        "FILE2 = \"/content/driveG/MyDrive/GP2/GP2_timm/DenseNet121d_22_From_Scratch_model0.pth\"\n",
        "Dense121 = torch.load(FILE2, map_location=torch.device('cpu'))\n",
        "\n",
        "summary(Dense121,\n",
        "        input_size=(32, 1, 224, 224),\n",
        "        verbose=0,\n",
        "        col_names=[\"input_size\", \"output_size\", \"num_params\", \"trainable\"],\n",
        "        col_width=20,\n",
        "        row_settings=[\"var_names\"]\n",
        ")"
      ],
      "metadata": {
        "colab": {
          "base_uri": "https://localhost:8080/"
        },
        "id": "Hon6wUPPBBPH",
        "outputId": "e045fc21-613b-46f7-a85c-9d51466e685c"
      },
      "execution_count": null,
      "outputs": [
        {
          "output_type": "execute_result",
          "data": {
            "text/plain": [
              "=============================================================================================================================\n",
              "Layer (type (var_name))                       Input Shape          Output Shape         Param #              Trainable\n",
              "=============================================================================================================================\n",
              "DenseNet (DenseNet)                           [32, 1, 224, 224]    [32, 1]              --                   True\n",
              "├─Sequential (features)                       [32, 1, 224, 224]    [32, 1024, 7, 7]     --                   True\n",
              "│    └─Conv2d (conv0)                         [32, 1, 224, 224]    [32, 32, 112, 112]   288                  True\n",
              "│    └─BatchNormAct2d (norm0)                 [32, 32, 112, 112]   [32, 32, 112, 112]   64                   True\n",
              "│    │    └─Identity (drop)                   [32, 32, 112, 112]   [32, 32, 112, 112]   --                   --\n",
              "│    │    └─ReLU (act)                        [32, 32, 112, 112]   [32, 32, 112, 112]   --                   --\n",
              "│    └─Conv2d (conv1)                         [32, 32, 112, 112]   [32, 32, 112, 112]   9,216                True\n",
              "│    └─BatchNormAct2d (norm1)                 [32, 32, 112, 112]   [32, 32, 112, 112]   64                   True\n",
              "│    │    └─Identity (drop)                   [32, 32, 112, 112]   [32, 32, 112, 112]   --                   --\n",
              "│    │    └─ReLU (act)                        [32, 32, 112, 112]   [32, 32, 112, 112]   --                   --\n",
              "│    └─Conv2d (conv2)                         [32, 32, 112, 112]   [32, 64, 112, 112]   18,432               True\n",
              "│    └─BatchNormAct2d (norm2)                 [32, 64, 112, 112]   [32, 64, 112, 112]   128                  True\n",
              "│    │    └─Identity (drop)                   [32, 64, 112, 112]   [32, 64, 112, 112]   --                   --\n",
              "│    │    └─ReLU (act)                        [32, 64, 112, 112]   [32, 64, 112, 112]   --                   --\n",
              "│    └─MaxPool2d (pool0)                      [32, 64, 112, 112]   [32, 64, 56, 56]     --                   --\n",
              "│    └─DenseBlock (denseblock1)               [32, 64, 56, 56]     [32, 256, 56, 56]    --                   True\n",
              "│    │    └─DenseLayer (denselayer1)          [32, 64, 56, 56]     [32, 32, 56, 56]     45,440               True\n",
              "│    │    └─DenseLayer (denselayer2)          [32, 64, 56, 56]     [32, 32, 56, 56]     49,600               True\n",
              "│    │    └─DenseLayer (denselayer3)          [32, 64, 56, 56]     [32, 32, 56, 56]     53,760               True\n",
              "│    │    └─DenseLayer (denselayer4)          [32, 64, 56, 56]     [32, 32, 56, 56]     57,920               True\n",
              "│    │    └─DenseLayer (denselayer5)          [32, 64, 56, 56]     [32, 32, 56, 56]     62,080               True\n",
              "│    │    └─DenseLayer (denselayer6)          [32, 64, 56, 56]     [32, 32, 56, 56]     66,240               True\n",
              "│    └─DenseTransition (transition1)          [32, 256, 56, 56]    [32, 128, 28, 28]    --                   True\n",
              "│    │    └─BatchNormAct2d (norm)             [32, 256, 56, 56]    [32, 256, 56, 56]    512                  True\n",
              "│    │    └─Conv2d (conv)                     [32, 256, 56, 56]    [32, 128, 56, 56]    32,768               True\n",
              "│    │    └─AvgPool2d (pool)                  [32, 128, 56, 56]    [32, 128, 28, 28]    --                   --\n",
              "│    └─DenseBlock (denseblock2)               [32, 128, 28, 28]    [32, 512, 28, 28]    --                   True\n",
              "│    │    └─DenseLayer (denselayer1)          [32, 128, 28, 28]    [32, 32, 28, 28]     53,760               True\n",
              "│    │    └─DenseLayer (denselayer2)          [32, 128, 28, 28]    [32, 32, 28, 28]     57,920               True\n",
              "│    │    └─DenseLayer (denselayer3)          [32, 128, 28, 28]    [32, 32, 28, 28]     62,080               True\n",
              "│    │    └─DenseLayer (denselayer4)          [32, 128, 28, 28]    [32, 32, 28, 28]     66,240               True\n",
              "│    │    └─DenseLayer (denselayer5)          [32, 128, 28, 28]    [32, 32, 28, 28]     70,400               True\n",
              "│    │    └─DenseLayer (denselayer6)          [32, 128, 28, 28]    [32, 32, 28, 28]     74,560               True\n",
              "│    │    └─DenseLayer (denselayer7)          [32, 128, 28, 28]    [32, 32, 28, 28]     78,720               True\n",
              "│    │    └─DenseLayer (denselayer8)          [32, 128, 28, 28]    [32, 32, 28, 28]     82,880               True\n",
              "│    │    └─DenseLayer (denselayer9)          [32, 128, 28, 28]    [32, 32, 28, 28]     87,040               True\n",
              "│    │    └─DenseLayer (denselayer10)         [32, 128, 28, 28]    [32, 32, 28, 28]     91,200               True\n",
              "│    │    └─DenseLayer (denselayer11)         [32, 128, 28, 28]    [32, 32, 28, 28]     95,360               True\n",
              "│    │    └─DenseLayer (denselayer12)         [32, 128, 28, 28]    [32, 32, 28, 28]     99,520               True\n",
              "│    └─DenseTransition (transition2)          [32, 512, 28, 28]    [32, 256, 14, 14]    --                   True\n",
              "│    │    └─BatchNormAct2d (norm)             [32, 512, 28, 28]    [32, 512, 28, 28]    1,024                True\n",
              "│    │    └─Conv2d (conv)                     [32, 512, 28, 28]    [32, 256, 28, 28]    131,072              True\n",
              "│    │    └─AvgPool2d (pool)                  [32, 256, 28, 28]    [32, 256, 14, 14]    --                   --\n",
              "│    └─DenseBlock (denseblock3)               [32, 256, 14, 14]    [32, 1024, 14, 14]   --                   True\n",
              "│    │    └─DenseLayer (denselayer1)          [32, 256, 14, 14]    [32, 32, 14, 14]     70,400               True\n",
              "│    │    └─DenseLayer (denselayer2)          [32, 256, 14, 14]    [32, 32, 14, 14]     74,560               True\n",
              "│    │    └─DenseLayer (denselayer3)          [32, 256, 14, 14]    [32, 32, 14, 14]     78,720               True\n",
              "│    │    └─DenseLayer (denselayer4)          [32, 256, 14, 14]    [32, 32, 14, 14]     82,880               True\n",
              "│    │    └─DenseLayer (denselayer5)          [32, 256, 14, 14]    [32, 32, 14, 14]     87,040               True\n",
              "│    │    └─DenseLayer (denselayer6)          [32, 256, 14, 14]    [32, 32, 14, 14]     91,200               True\n",
              "│    │    └─DenseLayer (denselayer7)          [32, 256, 14, 14]    [32, 32, 14, 14]     95,360               True\n",
              "│    │    └─DenseLayer (denselayer8)          [32, 256, 14, 14]    [32, 32, 14, 14]     99,520               True\n",
              "│    │    └─DenseLayer (denselayer9)          [32, 256, 14, 14]    [32, 32, 14, 14]     103,680              True\n",
              "│    │    └─DenseLayer (denselayer10)         [32, 256, 14, 14]    [32, 32, 14, 14]     107,840              True\n",
              "│    │    └─DenseLayer (denselayer11)         [32, 256, 14, 14]    [32, 32, 14, 14]     112,000              True\n",
              "│    │    └─DenseLayer (denselayer12)         [32, 256, 14, 14]    [32, 32, 14, 14]     116,160              True\n",
              "│    │    └─DenseLayer (denselayer13)         [32, 256, 14, 14]    [32, 32, 14, 14]     120,320              True\n",
              "│    │    └─DenseLayer (denselayer14)         [32, 256, 14, 14]    [32, 32, 14, 14]     124,480              True\n",
              "│    │    └─DenseLayer (denselayer15)         [32, 256, 14, 14]    [32, 32, 14, 14]     128,640              True\n",
              "│    │    └─DenseLayer (denselayer16)         [32, 256, 14, 14]    [32, 32, 14, 14]     132,800              True\n",
              "│    │    └─DenseLayer (denselayer17)         [32, 256, 14, 14]    [32, 32, 14, 14]     136,960              True\n",
              "│    │    └─DenseLayer (denselayer18)         [32, 256, 14, 14]    [32, 32, 14, 14]     141,120              True\n",
              "│    │    └─DenseLayer (denselayer19)         [32, 256, 14, 14]    [32, 32, 14, 14]     145,280              True\n",
              "│    │    └─DenseLayer (denselayer20)         [32, 256, 14, 14]    [32, 32, 14, 14]     149,440              True\n",
              "│    │    └─DenseLayer (denselayer21)         [32, 256, 14, 14]    [32, 32, 14, 14]     153,600              True\n",
              "│    │    └─DenseLayer (denselayer22)         [32, 256, 14, 14]    [32, 32, 14, 14]     157,760              True\n",
              "│    │    └─DenseLayer (denselayer23)         [32, 256, 14, 14]    [32, 32, 14, 14]     161,920              True\n",
              "│    │    └─DenseLayer (denselayer24)         [32, 256, 14, 14]    [32, 32, 14, 14]     166,080              True\n",
              "│    └─DenseTransition (transition3)          [32, 1024, 14, 14]   [32, 512, 7, 7]      --                   True\n",
              "│    │    └─BatchNormAct2d (norm)             [32, 1024, 14, 14]   [32, 1024, 14, 14]   2,048                True\n",
              "│    │    └─Conv2d (conv)                     [32, 1024, 14, 14]   [32, 512, 14, 14]    524,288              True\n",
              "│    │    └─AvgPool2d (pool)                  [32, 512, 14, 14]    [32, 512, 7, 7]      --                   --\n",
              "│    └─DenseBlock (denseblock4)               [32, 512, 7, 7]      [32, 1024, 7, 7]     --                   True\n",
              "│    │    └─DenseLayer (denselayer1)          [32, 512, 7, 7]      [32, 32, 7, 7]       103,680              True\n",
              "│    │    └─DenseLayer (denselayer2)          [32, 512, 7, 7]      [32, 32, 7, 7]       107,840              True\n",
              "│    │    └─DenseLayer (denselayer3)          [32, 512, 7, 7]      [32, 32, 7, 7]       112,000              True\n",
              "│    │    └─DenseLayer (denselayer4)          [32, 512, 7, 7]      [32, 32, 7, 7]       116,160              True\n",
              "│    │    └─DenseLayer (denselayer5)          [32, 512, 7, 7]      [32, 32, 7, 7]       120,320              True\n",
              "│    │    └─DenseLayer (denselayer6)          [32, 512, 7, 7]      [32, 32, 7, 7]       124,480              True\n",
              "│    │    └─DenseLayer (denselayer7)          [32, 512, 7, 7]      [32, 32, 7, 7]       128,640              True\n",
              "│    │    └─DenseLayer (denselayer8)          [32, 512, 7, 7]      [32, 32, 7, 7]       132,800              True\n",
              "│    │    └─DenseLayer (denselayer9)          [32, 512, 7, 7]      [32, 32, 7, 7]       136,960              True\n",
              "│    │    └─DenseLayer (denselayer10)         [32, 512, 7, 7]      [32, 32, 7, 7]       141,120              True\n",
              "│    │    └─DenseLayer (denselayer11)         [32, 512, 7, 7]      [32, 32, 7, 7]       145,280              True\n",
              "│    │    └─DenseLayer (denselayer12)         [32, 512, 7, 7]      [32, 32, 7, 7]       149,440              True\n",
              "│    │    └─DenseLayer (denselayer13)         [32, 512, 7, 7]      [32, 32, 7, 7]       153,600              True\n",
              "│    │    └─DenseLayer (denselayer14)         [32, 512, 7, 7]      [32, 32, 7, 7]       157,760              True\n",
              "│    │    └─DenseLayer (denselayer15)         [32, 512, 7, 7]      [32, 32, 7, 7]       161,920              True\n",
              "│    │    └─DenseLayer (denselayer16)         [32, 512, 7, 7]      [32, 32, 7, 7]       166,080              True\n",
              "│    └─BatchNormAct2d (norm5)                 [32, 1024, 7, 7]     [32, 1024, 7, 7]     2,048                True\n",
              "│    │    └─Identity (drop)                   [32, 1024, 7, 7]     [32, 1024, 7, 7]     --                   --\n",
              "│    │    └─ReLU (act)                        [32, 1024, 7, 7]     [32, 1024, 7, 7]     --                   --\n",
              "├─SelectAdaptivePool2d (global_pool)          [32, 1024, 7, 7]     [32, 1024]           --                   --\n",
              "│    └─AdaptiveAvgPool2d (pool)               [32, 1024, 7, 7]     [32, 1024, 1, 1]     --                   --\n",
              "│    └─Flatten (flatten)                      [32, 1024, 1, 1]     [32, 1024]           --                   --\n",
              "├─Linear (classifier)                         [32, 1024]           [32, 1]              1,025                True\n",
              "=============================================================================================================================\n",
              "Total params: 6,973,537\n",
              "Trainable params: 6,973,537\n",
              "Non-trainable params: 0\n",
              "Total mult-adds (G): 98.10\n",
              "=============================================================================================================================\n",
              "Input size (MB): 6.42\n",
              "Forward/backward pass size (MB): 1971.72\n",
              "Params size (MB): 27.56\n",
              "Estimated Total Size (MB): 2005.70\n",
              "============================================================================================================================="
            ]
          },
          "metadata": {},
          "execution_count": 18
        }
      ]
    },
    {
      "cell_type": "code",
      "source": [
        "DenseNet121_test_pred_dicts = pred_and_store(paths=test_data_paths,\n",
        "                                             model=Dense121,\n",
        "                                             transform=manual_transforms,\n",
        "                                             class_names=class_names,\n",
        "                                             device=\"cpu\") # Make predictions on CPU,  because when we deploy our model, we won't always have access to a \"cuda\" (GPU) device."
      ],
      "metadata": {
        "colab": {
          "base_uri": "https://localhost:8080/",
          "height": 67,
          "referenced_widgets": [
            "1f0f519331184a44af252b7aade10260",
            "6ea9c59adc724c2fb1599dc89c82fcd4",
            "9ccf6748950340df8a42de6cd0b51f72",
            "282471d28f1c497680fc22b1685e9bff",
            "13a5692dd3034dfdab72544d9c95fc8d",
            "c927a5e5402840e0a6e4260e94596e4b",
            "e1f77bfc4e3d4aca9c2f0a9e69ef03a3",
            "6ff5ab1b0c3e48f4a0e97ffd373f2beb",
            "02a18fa5de124a0887a77adb0180c744",
            "69e4aa5af7b84d23956d1dcbcdddd717",
            "a262076406c84c3996fd191f9544cff9"
          ]
        },
        "id": "QuD1ScwkH9mC",
        "outputId": "8065fc80-028a-4b1e-d47d-a51a6ba05066"
      },
      "execution_count": null,
      "outputs": [
        {
          "output_type": "display_data",
          "data": {
            "text/plain": [
              "  0%|          | 0/252 [00:00<?, ?it/s]"
            ],
            "application/vnd.jupyter.widget-view+json": {
              "version_major": 2,
              "version_minor": 0,
              "model_id": "1f0f519331184a44af252b7aade10260"
            }
          },
          "metadata": {}
        },
        {
          "output_type": "stream",
          "name": "stdout",
          "text": [
            "Out of 252 images, the model predicted 179 correctly\n"
          ]
        }
      ]
    },
    {
      "cell_type": "code",
      "source": [
        "# Inspect the first 2 prediction dictionaries\n",
        "DenseNet121_test_pred_dicts[:2]"
      ],
      "metadata": {
        "colab": {
          "base_uri": "https://localhost:8080/"
        },
        "id": "upR6hDy7IFZj",
        "outputId": "5ccead16-cd55-4b25-9c5c-aa6cc8e33681"
      },
      "execution_count": null,
      "outputs": [
        {
          "output_type": "execute_result",
          "data": {
            "text/plain": [
              "[{'image_path': PosixPath('/content/driveG/MyDrive/GP1/After_Research_paper/DenseNet_Reimagined/newER_data/validation/infected/pco_1.jpg'),\n",
              "  'class_name': 'infected',\n",
              "  'pred_prob': 0.3163,\n",
              "  'pred_class': 'infected',\n",
              "  'time_for_pred': 0.4461,\n",
              "  'correct': True},\n",
              " {'image_path': PosixPath('/content/driveG/MyDrive/GP1/After_Research_paper/DenseNet_Reimagined/newER_data/validation/infected/pco_7.jpg'),\n",
              "  'class_name': 'infected',\n",
              "  'pred_prob': 0.3262,\n",
              "  'pred_class': 'infected',\n",
              "  'time_for_pred': 0.4773,\n",
              "  'correct': True}]"
            ]
          },
          "metadata": {},
          "execution_count": 20
        }
      ]
    },
    {
      "cell_type": "markdown",
      "source": [
        "# Turn our list of dictionaries into a Pandas dataframe:"
      ],
      "metadata": {
        "id": "13SuppGgIMgu"
      }
    },
    {
      "cell_type": "code",
      "source": [
        "import pandas as pd\n",
        "DenseNet121_test_pred_df = pd.DataFrame(DenseNet121_test_pred_dicts)\n",
        "DenseNet121_test_pred_df.head()"
      ],
      "metadata": {
        "colab": {
          "base_uri": "https://localhost:8080/",
          "height": 206
        },
        "id": "KOe0-hUxINOP",
        "outputId": "800bb780-d207-4fa4-f11d-64dba74e3f07"
      },
      "execution_count": null,
      "outputs": [
        {
          "output_type": "execute_result",
          "data": {
            "text/plain": [
              "                                          image_path class_name  pred_prob  \\\n",
              "0  /content/driveG/MyDrive/GP1/After_Research_pap...   infected     0.3163   \n",
              "1  /content/driveG/MyDrive/GP1/After_Research_pap...   infected     0.3262   \n",
              "2  /content/driveG/MyDrive/GP1/After_Research_pap...   infected     0.4891   \n",
              "3  /content/driveG/MyDrive/GP1/After_Research_pap...   infected     0.8282   \n",
              "4  /content/driveG/MyDrive/GP1/After_Research_pap...   infected     0.3216   \n",
              "\n",
              "    pred_class  time_for_pred  correct  \n",
              "0     infected         0.4461     True  \n",
              "1     infected         0.4773     True  \n",
              "2     infected         0.3817     True  \n",
              "3  notinfected         0.4493    False  \n",
              "4     infected         0.5837     True  "
            ],
            "text/html": [
              "\n",
              "  <div id=\"df-cfe88c32-e488-4724-b75c-478a45b3b965\">\n",
              "    <div class=\"colab-df-container\">\n",
              "      <div>\n",
              "<style scoped>\n",
              "    .dataframe tbody tr th:only-of-type {\n",
              "        vertical-align: middle;\n",
              "    }\n",
              "\n",
              "    .dataframe tbody tr th {\n",
              "        vertical-align: top;\n",
              "    }\n",
              "\n",
              "    .dataframe thead th {\n",
              "        text-align: right;\n",
              "    }\n",
              "</style>\n",
              "<table border=\"1\" class=\"dataframe\">\n",
              "  <thead>\n",
              "    <tr style=\"text-align: right;\">\n",
              "      <th></th>\n",
              "      <th>image_path</th>\n",
              "      <th>class_name</th>\n",
              "      <th>pred_prob</th>\n",
              "      <th>pred_class</th>\n",
              "      <th>time_for_pred</th>\n",
              "      <th>correct</th>\n",
              "    </tr>\n",
              "  </thead>\n",
              "  <tbody>\n",
              "    <tr>\n",
              "      <th>0</th>\n",
              "      <td>/content/driveG/MyDrive/GP1/After_Research_pap...</td>\n",
              "      <td>infected</td>\n",
              "      <td>0.3163</td>\n",
              "      <td>infected</td>\n",
              "      <td>0.4461</td>\n",
              "      <td>True</td>\n",
              "    </tr>\n",
              "    <tr>\n",
              "      <th>1</th>\n",
              "      <td>/content/driveG/MyDrive/GP1/After_Research_pap...</td>\n",
              "      <td>infected</td>\n",
              "      <td>0.3262</td>\n",
              "      <td>infected</td>\n",
              "      <td>0.4773</td>\n",
              "      <td>True</td>\n",
              "    </tr>\n",
              "    <tr>\n",
              "      <th>2</th>\n",
              "      <td>/content/driveG/MyDrive/GP1/After_Research_pap...</td>\n",
              "      <td>infected</td>\n",
              "      <td>0.4891</td>\n",
              "      <td>infected</td>\n",
              "      <td>0.3817</td>\n",
              "      <td>True</td>\n",
              "    </tr>\n",
              "    <tr>\n",
              "      <th>3</th>\n",
              "      <td>/content/driveG/MyDrive/GP1/After_Research_pap...</td>\n",
              "      <td>infected</td>\n",
              "      <td>0.8282</td>\n",
              "      <td>notinfected</td>\n",
              "      <td>0.4493</td>\n",
              "      <td>False</td>\n",
              "    </tr>\n",
              "    <tr>\n",
              "      <th>4</th>\n",
              "      <td>/content/driveG/MyDrive/GP1/After_Research_pap...</td>\n",
              "      <td>infected</td>\n",
              "      <td>0.3216</td>\n",
              "      <td>infected</td>\n",
              "      <td>0.5837</td>\n",
              "      <td>True</td>\n",
              "    </tr>\n",
              "  </tbody>\n",
              "</table>\n",
              "</div>\n",
              "      <button class=\"colab-df-convert\" onclick=\"convertToInteractive('df-cfe88c32-e488-4724-b75c-478a45b3b965')\"\n",
              "              title=\"Convert this dataframe to an interactive table.\"\n",
              "              style=\"display:none;\">\n",
              "        \n",
              "  <svg xmlns=\"http://www.w3.org/2000/svg\" height=\"24px\"viewBox=\"0 0 24 24\"\n",
              "       width=\"24px\">\n",
              "    <path d=\"M0 0h24v24H0V0z\" fill=\"none\"/>\n",
              "    <path d=\"M18.56 5.44l.94 2.06.94-2.06 2.06-.94-2.06-.94-.94-2.06-.94 2.06-2.06.94zm-11 1L8.5 8.5l.94-2.06 2.06-.94-2.06-.94L8.5 2.5l-.94 2.06-2.06.94zm10 10l.94 2.06.94-2.06 2.06-.94-2.06-.94-.94-2.06-.94 2.06-2.06.94z\"/><path d=\"M17.41 7.96l-1.37-1.37c-.4-.4-.92-.59-1.43-.59-.52 0-1.04.2-1.43.59L10.3 9.45l-7.72 7.72c-.78.78-.78 2.05 0 2.83L4 21.41c.39.39.9.59 1.41.59.51 0 1.02-.2 1.41-.59l7.78-7.78 2.81-2.81c.8-.78.8-2.07 0-2.86zM5.41 20L4 18.59l7.72-7.72 1.47 1.35L5.41 20z\"/>\n",
              "  </svg>\n",
              "      </button>\n",
              "      \n",
              "  <style>\n",
              "    .colab-df-container {\n",
              "      display:flex;\n",
              "      flex-wrap:wrap;\n",
              "      gap: 12px;\n",
              "    }\n",
              "\n",
              "    .colab-df-convert {\n",
              "      background-color: #E8F0FE;\n",
              "      border: none;\n",
              "      border-radius: 50%;\n",
              "      cursor: pointer;\n",
              "      display: none;\n",
              "      fill: #1967D2;\n",
              "      height: 32px;\n",
              "      padding: 0 0 0 0;\n",
              "      width: 32px;\n",
              "    }\n",
              "\n",
              "    .colab-df-convert:hover {\n",
              "      background-color: #E2EBFA;\n",
              "      box-shadow: 0px 1px 2px rgba(60, 64, 67, 0.3), 0px 1px 3px 1px rgba(60, 64, 67, 0.15);\n",
              "      fill: #174EA6;\n",
              "    }\n",
              "\n",
              "    [theme=dark] .colab-df-convert {\n",
              "      background-color: #3B4455;\n",
              "      fill: #D2E3FC;\n",
              "    }\n",
              "\n",
              "    [theme=dark] .colab-df-convert:hover {\n",
              "      background-color: #434B5C;\n",
              "      box-shadow: 0px 1px 3px 1px rgba(0, 0, 0, 0.15);\n",
              "      filter: drop-shadow(0px 1px 2px rgba(0, 0, 0, 0.3));\n",
              "      fill: #FFFFFF;\n",
              "    }\n",
              "  </style>\n",
              "\n",
              "      <script>\n",
              "        const buttonEl =\n",
              "          document.querySelector('#df-cfe88c32-e488-4724-b75c-478a45b3b965 button.colab-df-convert');\n",
              "        buttonEl.style.display =\n",
              "          google.colab.kernel.accessAllowed ? 'block' : 'none';\n",
              "\n",
              "        async function convertToInteractive(key) {\n",
              "          const element = document.querySelector('#df-cfe88c32-e488-4724-b75c-478a45b3b965');\n",
              "          const dataTable =\n",
              "            await google.colab.kernel.invokeFunction('convertToInteractive',\n",
              "                                                     [key], {});\n",
              "          if (!dataTable) return;\n",
              "\n",
              "          const docLinkHtml = 'Like what you see? Visit the ' +\n",
              "            '<a target=\"_blank\" href=https://colab.research.google.com/notebooks/data_table.ipynb>data table notebook</a>'\n",
              "            + ' to learn more about interactive tables.';\n",
              "          element.innerHTML = '';\n",
              "          dataTable['output_type'] = 'display_data';\n",
              "          await google.colab.output.renderOutput(dataTable, element);\n",
              "          const docLink = document.createElement('div');\n",
              "          docLink.innerHTML = docLinkHtml;\n",
              "          element.appendChild(docLink);\n",
              "        }\n",
              "      </script>\n",
              "    </div>\n",
              "  </div>\n",
              "  "
            ]
          },
          "metadata": {},
          "execution_count": 21
        }
      ]
    },
    {
      "cell_type": "code",
      "source": [
        "# Check number of correct predictions\n",
        "DenseNet121_test_pred_df.correct.value_counts()"
      ],
      "metadata": {
        "colab": {
          "base_uri": "https://localhost:8080/"
        },
        "id": "wK9tvTcF8ijT",
        "outputId": "f6174dc6-f2ff-4807-e2ff-c163787a3922"
      },
      "execution_count": null,
      "outputs": [
        {
          "output_type": "execute_result",
          "data": {
            "text/plain": [
              "True     179\n",
              "False     73\n",
              "Name: correct, dtype: int64"
            ]
          },
          "metadata": {},
          "execution_count": 22
        }
      ]
    },
    {
      "cell_type": "markdown",
      "source": [
        "So 73 wrong predictions out of 252. <br>\n",
        "What about average prediction time?"
      ],
      "metadata": {
        "id": "Na9frw5T8vqG"
      }
    },
    {
      "cell_type": "code",
      "source": [
        "# Find the average time per prediction\n",
        "Dense121_average_time_per_pred = round(DenseNet121_test_pred_df.time_for_pred.mean(), 4)\n",
        "print(f\"DenseNet121 average time per prediction: {Dense121_average_time_per_pred} seconds\")"
      ],
      "metadata": {
        "colab": {
          "base_uri": "https://localhost:8080/"
        },
        "id": "reBcE00P8mH5",
        "outputId": "f845a8b0-227a-413e-a1cf-3296da3c3954"
      },
      "execution_count": null,
      "outputs": [
        {
          "output_type": "stream",
          "name": "stdout",
          "text": [
            "DenseNet121 average time per prediction: 0.25 seconds\n"
          ]
        }
      ]
    },
    {
      "cell_type": "markdown",
      "source": [
        "# So the average prediction time in the DenseNet121 is considerably faster than DenseNet201 while also being slightly much more accurate and with being a much smaller model (7 million parameters vs. 18 million parameters for DenseNet201)"
      ],
      "metadata": {
        "id": "PL8KhVRt9LHm"
      }
    },
    {
      "cell_type": "markdown",
      "source": [
        "***\n",
        "***\n",
        "***"
      ],
      "metadata": {
        "id": "3DxFE4o09yBb"
      }
    },
    {
      "cell_type": "markdown",
      "source": [
        "# Now we will repeat the same steps for the modified TinyVGG model (IustNet) that I built and trained from scratch. <br> Note: This model doesn't have the transform to grayscale pre-processing. <br> Note: This is not a complete replica of the TinyVGG model in the CNN exaplainer website. This one has 45 hidden units instead of 10."
      ],
      "metadata": {
        "id": "v8_e-Xfh90ru"
      }
    },
    {
      "cell_type": "code",
      "source": [
        "import sys\n",
        "sys.path.insert(1, '/content/driveG/MyDrive/GP2/Gradio')\n",
        "from without_grayscale_tansform_model_from_scratch import IustNet\n",
        "\n",
        "FILE3 = \"/content/driveG/MyDrive/GP2/Model_From_scratch/Without_grayscale_tansform_Model_From_Scratch.pth\"\n",
        "IustNet = torch.load(FILE3, map_location=torch.device('cpu'))\n",
        "\n",
        "summary(IustNet,\n",
        "        input_size=(32, 3, 224, 224),\n",
        "        verbose=0,\n",
        "        col_names=[\"input_size\", \"output_size\", \"num_params\", \"trainable\"],\n",
        "        col_width=20,\n",
        "        row_settings=[\"var_names\"]\n",
        ")"
      ],
      "metadata": {
        "colab": {
          "base_uri": "https://localhost:8080/"
        },
        "id": "EuX5AWhP-w6Y",
        "outputId": "17f04b0f-6b23-4365-80fd-db24f567209e"
      },
      "execution_count": null,
      "outputs": [
        {
          "output_type": "execute_result",
          "data": {
            "text/plain": [
              "========================================================================================================================\n",
              "Layer (type (var_name))                  Input Shape          Output Shape         Param #              Trainable\n",
              "========================================================================================================================\n",
              "IustNet (IustNet)                        [32, 3, 224, 224]    [32, 1]              --                   True\n",
              "├─Sequential (block_1)                   [32, 3, 224, 224]    [32, 45, 112, 112]   --                   True\n",
              "│    └─Conv2d (0)                        [32, 3, 224, 224]    [32, 45, 224, 224]   1,260                True\n",
              "│    └─ReLU (1)                          [32, 45, 224, 224]   [32, 45, 224, 224]   --                   --\n",
              "│    └─Conv2d (2)                        [32, 45, 224, 224]   [32, 45, 224, 224]   18,270               True\n",
              "│    └─ReLU (3)                          [32, 45, 224, 224]   [32, 45, 224, 224]   --                   --\n",
              "│    └─MaxPool2d (4)                     [32, 45, 224, 224]   [32, 45, 112, 112]   --                   --\n",
              "├─Sequential (block_2)                   [32, 45, 112, 112]   [32, 45, 56, 56]     --                   True\n",
              "│    └─Conv2d (0)                        [32, 45, 112, 112]   [32, 45, 112, 112]   18,270               True\n",
              "│    └─ReLU (1)                          [32, 45, 112, 112]   [32, 45, 112, 112]   --                   --\n",
              "│    └─Conv2d (2)                        [32, 45, 112, 112]   [32, 45, 112, 112]   18,270               True\n",
              "│    └─ReLU (3)                          [32, 45, 112, 112]   [32, 45, 112, 112]   --                   --\n",
              "│    └─MaxPool2d (4)                     [32, 45, 112, 112]   [32, 45, 56, 56]     --                   --\n",
              "├─Sequential (classifier)                [32, 45, 56, 56]     [32, 1]              --                   True\n",
              "│    └─Flatten (0)                       [32, 45, 56, 56]     [32, 141120]         --                   --\n",
              "│    └─Linear (1)                        [32, 141120]         [32, 1]              141,121              True\n",
              "========================================================================================================================\n",
              "Total params: 197,191\n",
              "Trainable params: 197,191\n",
              "Non-trainable params: 0\n",
              "Total mult-adds (G): 46.03\n",
              "========================================================================================================================\n",
              "Input size (MB): 19.27\n",
              "Forward/backward pass size (MB): 1445.07\n",
              "Params size (MB): 0.79\n",
              "Estimated Total Size (MB): 1465.13\n",
              "========================================================================================================================"
            ]
          },
          "metadata": {},
          "execution_count": 24
        }
      ]
    },
    {
      "cell_type": "code",
      "source": [
        "# Create transforms pipeline manually (older method)\n",
        "IustNet_transforms = transforms.Compose([\n",
        "    transforms.Resize((224, 224)),\n",
        "    transforms.ToTensor()\n",
        "])"
      ],
      "metadata": {
        "id": "fNh7M_mfLUNK"
      },
      "execution_count": null,
      "outputs": []
    },
    {
      "cell_type": "code",
      "source": [
        "IustNet_test_pred_dicts = pred_and_store(paths=test_data_paths,\n",
        "                                             model=IustNet,\n",
        "                                             transform=IustNet_transforms,\n",
        "                                             class_names=class_names,\n",
        "                                             device=\"cpu\") # Make predictions on CPU,  because when we deploy our model, we won't always have access to a \"cuda\" (GPU) device."
      ],
      "metadata": {
        "colab": {
          "base_uri": "https://localhost:8080/",
          "height": 67,
          "referenced_widgets": [
            "4cf4c6fc0a714edc8e9b84a64a6bb840",
            "101d04b8272a48d198b85d0a09eb1db1",
            "e97c4fe2b8a54f98ab69dde71371b1f8",
            "1f8b7db534054ee2899f460643905a78",
            "eb0dea91ee994379b693919c52b9e6c2",
            "430bb8ced1474fb8b0441a7fdb7f577b",
            "64432585086c449daf8648a086738509",
            "9ccec3190c1d47799e4265d2157aafd2",
            "c5e290cf12f2406f9fbf48054be17f32",
            "fd22012ce17742f7906423c5dbff7b5c",
            "5eff1f9ba8934e0aa0ef4ee15813d997"
          ]
        },
        "id": "SDs88wAoDq14",
        "outputId": "52a3f8a3-76f6-494a-8002-1984cc1aafa0"
      },
      "execution_count": null,
      "outputs": [
        {
          "output_type": "display_data",
          "data": {
            "text/plain": [
              "  0%|          | 0/252 [00:00<?, ?it/s]"
            ],
            "application/vnd.jupyter.widget-view+json": {
              "version_major": 2,
              "version_minor": 0,
              "model_id": "4cf4c6fc0a714edc8e9b84a64a6bb840"
            }
          },
          "metadata": {}
        },
        {
          "output_type": "stream",
          "name": "stdout",
          "text": [
            "Out of 252 images, the model predicted 194 correctly\n"
          ]
        }
      ]
    },
    {
      "cell_type": "code",
      "source": [
        "# Inspect the first 2 prediction dictionaries\n",
        "IustNet_test_pred_dicts[:2]"
      ],
      "metadata": {
        "colab": {
          "base_uri": "https://localhost:8080/"
        },
        "id": "VO8amPWSMUkG",
        "outputId": "0dab6b36-5e80-4d8d-c68a-6fb2307581f3"
      },
      "execution_count": null,
      "outputs": [
        {
          "output_type": "execute_result",
          "data": {
            "text/plain": [
              "[{'image_path': PosixPath('/content/driveG/MyDrive/GP1/After_Research_paper/DenseNet_Reimagined/newER_data/validation/infected/pco_1.jpg'),\n",
              "  'class_name': 'infected',\n",
              "  'pred_prob': 0.5713,\n",
              "  'pred_class': 'notinfected',\n",
              "  'time_for_pred': 0.1094,\n",
              "  'correct': False},\n",
              " {'image_path': PosixPath('/content/driveG/MyDrive/GP1/After_Research_paper/DenseNet_Reimagined/newER_data/validation/infected/pco_7.jpg'),\n",
              "  'class_name': 'infected',\n",
              "  'pred_prob': 0.2811,\n",
              "  'pred_class': 'infected',\n",
              "  'time_for_pred': 0.0895,\n",
              "  'correct': True}]"
            ]
          },
          "metadata": {},
          "execution_count": 27
        }
      ]
    },
    {
      "cell_type": "code",
      "source": [
        "import pandas as pd\n",
        "IustNet_test_pred_df = pd.DataFrame(IustNet_test_pred_dicts)\n",
        "IustNet_test_pred_df.head()"
      ],
      "metadata": {
        "colab": {
          "base_uri": "https://localhost:8080/",
          "height": 206
        },
        "id": "lwUXJ8VHMjpK",
        "outputId": "57966eba-cf54-4109-8f3c-0f5283893fcd"
      },
      "execution_count": null,
      "outputs": [
        {
          "output_type": "execute_result",
          "data": {
            "text/plain": [
              "                                          image_path class_name  pred_prob  \\\n",
              "0  /content/driveG/MyDrive/GP1/After_Research_pap...   infected     0.5713   \n",
              "1  /content/driveG/MyDrive/GP1/After_Research_pap...   infected     0.2811   \n",
              "2  /content/driveG/MyDrive/GP1/After_Research_pap...   infected     0.5392   \n",
              "3  /content/driveG/MyDrive/GP1/After_Research_pap...   infected     0.8162   \n",
              "4  /content/driveG/MyDrive/GP1/After_Research_pap...   infected     0.4926   \n",
              "\n",
              "    pred_class  time_for_pred  correct  \n",
              "0  notinfected         0.1094    False  \n",
              "1     infected         0.0895     True  \n",
              "2  notinfected         0.0876    False  \n",
              "3  notinfected         0.0950    False  \n",
              "4     infected         0.0851     True  "
            ],
            "text/html": [
              "\n",
              "  <div id=\"df-9a94e4a4-2c05-4b0f-af2a-dc102158e70e\">\n",
              "    <div class=\"colab-df-container\">\n",
              "      <div>\n",
              "<style scoped>\n",
              "    .dataframe tbody tr th:only-of-type {\n",
              "        vertical-align: middle;\n",
              "    }\n",
              "\n",
              "    .dataframe tbody tr th {\n",
              "        vertical-align: top;\n",
              "    }\n",
              "\n",
              "    .dataframe thead th {\n",
              "        text-align: right;\n",
              "    }\n",
              "</style>\n",
              "<table border=\"1\" class=\"dataframe\">\n",
              "  <thead>\n",
              "    <tr style=\"text-align: right;\">\n",
              "      <th></th>\n",
              "      <th>image_path</th>\n",
              "      <th>class_name</th>\n",
              "      <th>pred_prob</th>\n",
              "      <th>pred_class</th>\n",
              "      <th>time_for_pred</th>\n",
              "      <th>correct</th>\n",
              "    </tr>\n",
              "  </thead>\n",
              "  <tbody>\n",
              "    <tr>\n",
              "      <th>0</th>\n",
              "      <td>/content/driveG/MyDrive/GP1/After_Research_pap...</td>\n",
              "      <td>infected</td>\n",
              "      <td>0.5713</td>\n",
              "      <td>notinfected</td>\n",
              "      <td>0.1094</td>\n",
              "      <td>False</td>\n",
              "    </tr>\n",
              "    <tr>\n",
              "      <th>1</th>\n",
              "      <td>/content/driveG/MyDrive/GP1/After_Research_pap...</td>\n",
              "      <td>infected</td>\n",
              "      <td>0.2811</td>\n",
              "      <td>infected</td>\n",
              "      <td>0.0895</td>\n",
              "      <td>True</td>\n",
              "    </tr>\n",
              "    <tr>\n",
              "      <th>2</th>\n",
              "      <td>/content/driveG/MyDrive/GP1/After_Research_pap...</td>\n",
              "      <td>infected</td>\n",
              "      <td>0.5392</td>\n",
              "      <td>notinfected</td>\n",
              "      <td>0.0876</td>\n",
              "      <td>False</td>\n",
              "    </tr>\n",
              "    <tr>\n",
              "      <th>3</th>\n",
              "      <td>/content/driveG/MyDrive/GP1/After_Research_pap...</td>\n",
              "      <td>infected</td>\n",
              "      <td>0.8162</td>\n",
              "      <td>notinfected</td>\n",
              "      <td>0.0950</td>\n",
              "      <td>False</td>\n",
              "    </tr>\n",
              "    <tr>\n",
              "      <th>4</th>\n",
              "      <td>/content/driveG/MyDrive/GP1/After_Research_pap...</td>\n",
              "      <td>infected</td>\n",
              "      <td>0.4926</td>\n",
              "      <td>infected</td>\n",
              "      <td>0.0851</td>\n",
              "      <td>True</td>\n",
              "    </tr>\n",
              "  </tbody>\n",
              "</table>\n",
              "</div>\n",
              "      <button class=\"colab-df-convert\" onclick=\"convertToInteractive('df-9a94e4a4-2c05-4b0f-af2a-dc102158e70e')\"\n",
              "              title=\"Convert this dataframe to an interactive table.\"\n",
              "              style=\"display:none;\">\n",
              "        \n",
              "  <svg xmlns=\"http://www.w3.org/2000/svg\" height=\"24px\"viewBox=\"0 0 24 24\"\n",
              "       width=\"24px\">\n",
              "    <path d=\"M0 0h24v24H0V0z\" fill=\"none\"/>\n",
              "    <path d=\"M18.56 5.44l.94 2.06.94-2.06 2.06-.94-2.06-.94-.94-2.06-.94 2.06-2.06.94zm-11 1L8.5 8.5l.94-2.06 2.06-.94-2.06-.94L8.5 2.5l-.94 2.06-2.06.94zm10 10l.94 2.06.94-2.06 2.06-.94-2.06-.94-.94-2.06-.94 2.06-2.06.94z\"/><path d=\"M17.41 7.96l-1.37-1.37c-.4-.4-.92-.59-1.43-.59-.52 0-1.04.2-1.43.59L10.3 9.45l-7.72 7.72c-.78.78-.78 2.05 0 2.83L4 21.41c.39.39.9.59 1.41.59.51 0 1.02-.2 1.41-.59l7.78-7.78 2.81-2.81c.8-.78.8-2.07 0-2.86zM5.41 20L4 18.59l7.72-7.72 1.47 1.35L5.41 20z\"/>\n",
              "  </svg>\n",
              "      </button>\n",
              "      \n",
              "  <style>\n",
              "    .colab-df-container {\n",
              "      display:flex;\n",
              "      flex-wrap:wrap;\n",
              "      gap: 12px;\n",
              "    }\n",
              "\n",
              "    .colab-df-convert {\n",
              "      background-color: #E8F0FE;\n",
              "      border: none;\n",
              "      border-radius: 50%;\n",
              "      cursor: pointer;\n",
              "      display: none;\n",
              "      fill: #1967D2;\n",
              "      height: 32px;\n",
              "      padding: 0 0 0 0;\n",
              "      width: 32px;\n",
              "    }\n",
              "\n",
              "    .colab-df-convert:hover {\n",
              "      background-color: #E2EBFA;\n",
              "      box-shadow: 0px 1px 2px rgba(60, 64, 67, 0.3), 0px 1px 3px 1px rgba(60, 64, 67, 0.15);\n",
              "      fill: #174EA6;\n",
              "    }\n",
              "\n",
              "    [theme=dark] .colab-df-convert {\n",
              "      background-color: #3B4455;\n",
              "      fill: #D2E3FC;\n",
              "    }\n",
              "\n",
              "    [theme=dark] .colab-df-convert:hover {\n",
              "      background-color: #434B5C;\n",
              "      box-shadow: 0px 1px 3px 1px rgba(0, 0, 0, 0.15);\n",
              "      filter: drop-shadow(0px 1px 2px rgba(0, 0, 0, 0.3));\n",
              "      fill: #FFFFFF;\n",
              "    }\n",
              "  </style>\n",
              "\n",
              "      <script>\n",
              "        const buttonEl =\n",
              "          document.querySelector('#df-9a94e4a4-2c05-4b0f-af2a-dc102158e70e button.colab-df-convert');\n",
              "        buttonEl.style.display =\n",
              "          google.colab.kernel.accessAllowed ? 'block' : 'none';\n",
              "\n",
              "        async function convertToInteractive(key) {\n",
              "          const element = document.querySelector('#df-9a94e4a4-2c05-4b0f-af2a-dc102158e70e');\n",
              "          const dataTable =\n",
              "            await google.colab.kernel.invokeFunction('convertToInteractive',\n",
              "                                                     [key], {});\n",
              "          if (!dataTable) return;\n",
              "\n",
              "          const docLinkHtml = 'Like what you see? Visit the ' +\n",
              "            '<a target=\"_blank\" href=https://colab.research.google.com/notebooks/data_table.ipynb>data table notebook</a>'\n",
              "            + ' to learn more about interactive tables.';\n",
              "          element.innerHTML = '';\n",
              "          dataTable['output_type'] = 'display_data';\n",
              "          await google.colab.output.renderOutput(dataTable, element);\n",
              "          const docLink = document.createElement('div');\n",
              "          docLink.innerHTML = docLinkHtml;\n",
              "          element.appendChild(docLink);\n",
              "        }\n",
              "      </script>\n",
              "    </div>\n",
              "  </div>\n",
              "  "
            ]
          },
          "metadata": {},
          "execution_count": 28
        }
      ]
    },
    {
      "cell_type": "code",
      "source": [
        "# Check number of correct predictions\n",
        "IustNet_test_pred_df.correct.value_counts()"
      ],
      "metadata": {
        "colab": {
          "base_uri": "https://localhost:8080/"
        },
        "id": "sqZRbGB0M0Pa",
        "outputId": "28ef86c5-dc5e-4720-fbb4-17667bd8a6a0"
      },
      "execution_count": null,
      "outputs": [
        {
          "output_type": "execute_result",
          "data": {
            "text/plain": [
              "True     194\n",
              "False     58\n",
              "Name: correct, dtype: int64"
            ]
          },
          "metadata": {},
          "execution_count": 29
        }
      ]
    },
    {
      "cell_type": "code",
      "source": [
        "# Find the average time per prediction\n",
        "IustNet_average_time_per_pred = round(IustNet_test_pred_df.time_for_pred.mean(), 4)\n",
        "print(f\"IustNet average time per prediction: {IustNet_average_time_per_pred} seconds\")"
      ],
      "metadata": {
        "colab": {
          "base_uri": "https://localhost:8080/"
        },
        "id": "bTiTIstuM9oK",
        "outputId": "38c56a02-f78a-4e94-9aa7-7e7593c4963f"
      },
      "execution_count": null,
      "outputs": [
        {
          "output_type": "stream",
          "name": "stdout",
          "text": [
            "IustNet average time per prediction: 0.0958 seconds\n"
          ]
        }
      ]
    },
    {
      "cell_type": "markdown",
      "source": [
        "# As IustNet is a much smaller model than the other two, it is faster in making predictions. <br> Imp Note: Even tho on the surface it seems to be more accurate than the other two models with less false predictions, it has more bias towards the `not_infected` class as we can tell also from its confusion matrix where it has less correct predictions for the infected class than the other 2 DenseNet architectures."
      ],
      "metadata": {
        "id": "4ZHBK2mLNbKQ"
      }
    },
    {
      "cell_type": "markdown",
      "source": [
        "***\n",
        "***\n",
        "***\n",
        "***\n",
        "***\n",
        "# Let's say we decided to use DenseNet121 since it is between DenseNet201 and IustNet in size and it doesn't have some bias towards the not infected class (like IustNet) while also being considerably fast.\n",
        "# We'll start with the `Gradio` implementation..."
      ],
      "metadata": {
        "id": "19_nEQhuPa9n"
      }
    },
    {
      "cell_type": "markdown",
      "source": [
        "## `Gradio` has a similar idea to ML where you have a set of inputs and outputs and something in the middle that maps these inputs to outputs `Inputs -> ML model (some complex func.) -> Outputs`. `Gradio` emulates this paradigm by creating an interface (`gradio.Interface()`) to connect inputs to outputs: <br> `gradio.Interface(fn, inputs, outputs)` where `fn` is a Python function to map the `inputs` to `outputs`"
      ],
      "metadata": {
        "id": "P1hyHqzMknwN"
      }
    },
    {
      "cell_type": "markdown",
      "source": [
        "> ## Note: Gradio has a vast number of possible inputs and outputs options known as \"Components\" from images to text to numbers to audio to videos and more. You can see all of these in the Gradio Components documentation."
      ],
      "metadata": {
        "id": "w8S6XzRPmXwW"
      }
    },
    {
      "cell_type": "markdown",
      "source": [
        "## To create our PCOS detector demo with Gradio, we'll need a function to map our inputs to our outputs. <br> We'll make a function that makes a prediction on a single image with the DenseNet121 model. This function:\n",
        "## 1. takes an Ultrasound image as input.\n",
        "## 2. preprocesses (transforms) it.\n",
        "## 3. makes a prediction using DenseNet121.\n",
        "## 4. returns the prediction, prediction probability as well as time it took to for the prediction.\n",
        "## `UT image input -> transform -> predict with DenseNet121 -> output pred, pred prob, time taken` <br> This will be the `fn` parameter to our Gradio interface func."
      ],
      "metadata": {
        "id": "mY3_IOoroJx5"
      }
    },
    {
      "cell_type": "code",
      "source": [
        "# Make sure the model is on CPU\n",
        "Dense121.to(\"cpu\")\n",
        "\n",
        "# Check the device\n",
        "next(iter(Dense121.parameters())).device"
      ],
      "metadata": {
        "id": "HJEFcHpKqmLI",
        "colab": {
          "base_uri": "https://localhost:8080/"
        },
        "outputId": "41853133-3b41-4f17-fb20-aa61abb78fb6"
      },
      "execution_count": null,
      "outputs": [
        {
          "output_type": "execute_result",
          "data": {
            "text/plain": [
              "device(type='cpu')"
            ]
          },
          "metadata": {},
          "execution_count": 31
        }
      ]
    },
    {
      "cell_type": "markdown",
      "source": [
        "## Now we'll create a function called `predict()` to replicate the workflow above."
      ],
      "metadata": {
        "id": "H3O99g-kq6NK"
      }
    },
    {
      "cell_type": "code",
      "source": [
        "from typing import Tuple, Dict\n",
        "\n",
        "def predict(img) -> Tuple[Dict, float]:\n",
        "  \"\"\"\n",
        "  Transforms and performs a prediction on img then returns prediction and time taken\n",
        "  \"\"\"\n",
        "  # Start the timer\n",
        "  start_time = timer()\n",
        "\n",
        "  # Transform the target image and add a batch dimension\n",
        "  img = manual_transforms(img).unsqueeze(0)\n",
        "\n",
        "  # Put model into evaluation mode and turn on the inference mode\n",
        "  Dense121.eval()\n",
        "  with torch.inference_mode():\n",
        "    # Pass the transformed image through the model and turn the prediction logit intp prediction probability\n",
        "    pred_logit = Dense121(img).squeeze()\n",
        "    pred_prob = torch.sigmoid(pred_logit)\n",
        "    pred_label = torch.round(pred_prob)\n",
        "    pred_label = pred_label.type(torch.int64)\n",
        "    pred_class = class_names[pred_label.cpu()]\n",
        "    # pred_prob = float(pred_prob) # This line and next one are for formatting the pred_prob to print only 4 decimal places\n",
        "    # pred_prob = round(pred_prob, 4)\n",
        "\n",
        "  # Create a prediction label and prediction probability dictionary for each prediction class (this is the required format for Gradio's output parameter)\n",
        "  pred_label = pred_class\n",
        "\n",
        "  # Calculate the prediction time\n",
        "  pred_time = round(timer() - start_time, 5)\n",
        "\n",
        "  # Return the prediction dictionary and prediction time\n",
        "  return pred_label, pred_time"
      ],
      "metadata": {
        "id": "NcwaKAnJq5H5"
      },
      "execution_count": null,
      "outputs": []
    },
    {
      "cell_type": "markdown",
      "source": [
        "## Let's test our function by performing a prediction on a random image from the test dataset. <br> We'll start by getting a list of all the image paths from the test directory and then randomly selecting one. <br> Then we'll open the randomly selected image with `PIL.Image.open()`. <br> Finally, we'll pass the image to our `predict()` function."
      ],
      "metadata": {
        "id": "LO-hxTX80VU-"
      }
    },
    {
      "cell_type": "code",
      "source": [
        "import random\n",
        "from PIL import Image\n",
        "\n",
        "# Get a list of all test image filepaths\n",
        "test_data_paths = list(Path(test_dir).glob(\"*/*.jpg\"))\n",
        "\n",
        "# Randomly select a test image path\n",
        "random_image_path = random.sample(test_data_paths, k=1)[0]\n",
        "\n",
        "# Open the target image\n",
        "image = Image.open(random_image_path)\n",
        "print(f\"[INFO] Predicting on image at path: {random_image_path}\\n\")\n",
        "\n",
        "# Predict on the target image and print out the outputs\n",
        "pred_dict, pred_time = predict(img=image)\n",
        "print(f\"Prediction label: {pred_dict}\")\n",
        "print(f\"Prediction time: {pred_time} seconds\")"
      ],
      "metadata": {
        "id": "rDOnBq1P0NuM",
        "colab": {
          "base_uri": "https://localhost:8080/"
        },
        "outputId": "28997817-bdcd-413a-9370-4f0fb893fd9a"
      },
      "execution_count": null,
      "outputs": [
        {
          "output_type": "stream",
          "name": "stdout",
          "text": [
            "[INFO] Predicting on image at path: /content/driveG/MyDrive/GP1/After_Research_paper/DenseNet_Reimagined/newER_data/validation/notinfected/4_normal_34.jpg\n",
            "\n",
            "Prediction label: infected\n",
            "Prediction time: 0.25876 seconds\n"
          ]
        }
      ]
    },
    {
      "cell_type": "markdown",
      "source": [
        "## As we can see, our `predict()` function enables us to go from inputs -> transform -> ML model -> output. Which is exactly what we need for Gradio demo. <br> But before creating the demo, let's create one more thing: a list of examples. <br> Gradio's `Interface` class takes a list of `examples` of an optional parameter (`gradio.Interface(examples=List[Any])`). The format of the `examples` parameter is a list of lists. So let's create a list of lists containing random filepaths to our test images. <br> Three examples should be enough."
      ],
      "metadata": {
        "id": "1TTUN0cUdsjT"
      }
    },
    {
      "cell_type": "code",
      "source": [
        "# Create a list of example inputs to our Gradio demo, note: it must be a list of lists to be compatible with gradio.Interface() example parameter\n",
        "example_list = [[\"/content/driveG/MyDrive/GP1/After_Research_paper/DenseNet_Reimagined/newER_data/validation/infected/18_pco_4.jpg\"],\n",
        "                [\"/content/driveG/MyDrive/GP1/After_Research_paper/DenseNet_Reimagined/newER_data/validation/infected/16_pco_7.jpg\"],\n",
        "                [\"/content/driveG/MyDrive/GP1/After_Research_paper/DenseNet_Reimagined/newER_data/validation/notinfected/2_normal_21.jpg\"]]\n",
        "example_list"
      ],
      "metadata": {
        "colab": {
          "base_uri": "https://localhost:8080/"
        },
        "id": "gBFXXTpBgceg",
        "outputId": "41b1d7c8-e29f-4e48-8475-ad0308ab073a"
      },
      "execution_count": null,
      "outputs": [
        {
          "output_type": "execute_result",
          "data": {
            "text/plain": [
              "[['/content/driveG/MyDrive/GP1/After_Research_paper/DenseNet_Reimagined/newER_data/validation/infected/18_pco_4.jpg'],\n",
              " ['/content/driveG/MyDrive/GP1/After_Research_paper/DenseNet_Reimagined/newER_data/validation/infected/16_pco_7.jpg'],\n",
              " ['/content/driveG/MyDrive/GP1/After_Research_paper/DenseNet_Reimagined/newER_data/validation/notinfected/2_normal_21.jpg']]"
            ]
          },
          "metadata": {},
          "execution_count": 34
        }
      ]
    },
    {
      "cell_type": "markdown",
      "source": [
        "## The Gradio demo will showcase these as example inputs to our demo so people can try it out and see what it does without uploading any of their own data."
      ],
      "metadata": {
        "id": "HKE9_BHQhpNq"
      }
    },
    {
      "cell_type": "markdown",
      "source": [
        "# Building an interface using Gradio:\n",
        "## Let's create a Gradio interface to replicate the workflow: <br> `input: UT image -> transform -> predict using DenseNet121 -> output: pred, pred prob, time taken`\n",
        "## The `gradio.Interface()` class has the following parameters:\n",
        "## > `fn` - a python function that maps `inputs` to `outputs`, in our case, we'll use our `predict()` function.\n",
        "## > `inputs` - the input to our interface, such as an image using `gradio.image()` or `image`.\n",
        "## > `outputs` - the output of our interface once the `inputs` have gone through the `fn`, such as a label using `gradio.Label()` (for our model's predicted labels) or number using `gradio.Number()` (for our model's prediction time).\n",
        "\n",
        "## > `examples` - a list of examples to showcase for the demo\n",
        "## > `title` - a string title of the demo\n",
        "## > `description` - a string of the demo\n",
        "## > `article` - a reference note at the bottom of the demo\n",
        "## Once we created our demo using an instance of `gr.Interface()`, we can bring it to life using `gradio.Interface().launch` or `demo.launch()` command."
      ],
      "metadata": {
        "id": "VXLN3lV3h5Qu"
      }
    },
    {
      "cell_type": "code",
      "source": [
        "# Import/install Gradio\n",
        "try:\n",
        "    import gradio as gr\n",
        "except:\n",
        "    !pip -q install gradio\n",
        "    import gradio as gr\n",
        "\n",
        "print(f\"Gradio version: {gr.__version__}\")"
      ],
      "metadata": {
        "colab": {
          "base_uri": "https://localhost:8080/"
        },
        "id": "qpWqJk9Fsxx4",
        "outputId": "c17e2167-b4b3-4d24-feb9-6ce9b3f38b00"
      },
      "execution_count": null,
      "outputs": [
        {
          "output_type": "stream",
          "name": "stdout",
          "text": [
            "\u001b[2K     \u001b[90m━━━━━━━━━━━━━━━━━━━━━━━━━━━━━━━━━━━━━━━━\u001b[0m \u001b[32m19.9/19.9 MB\u001b[0m \u001b[31m50.7 MB/s\u001b[0m eta \u001b[36m0:00:00\u001b[0m\n",
            "\u001b[2K     \u001b[90m━━━━━━━━━━━━━━━━━━━━━━━━━━━━━━━━━━━━━━━━\u001b[0m \u001b[32m1.0/1.0 MB\u001b[0m \u001b[31m48.6 MB/s\u001b[0m eta \u001b[36m0:00:00\u001b[0m\n",
            "\u001b[2K     \u001b[90m━━━━━━━━━━━━━━━━━━━━━━━━━━━━━━━━━━━━━━━━\u001b[0m \u001b[32m57.0/57.0 kB\u001b[0m \u001b[31m6.1 MB/s\u001b[0m eta \u001b[36m0:00:00\u001b[0m\n",
            "\u001b[?25h  Preparing metadata (setup.py) ... \u001b[?25l\u001b[?25hdone\n",
            "\u001b[2K     \u001b[90m━━━━━━━━━━━━━━━━━━━━━━━━━━━━━━━━━━━━━━\u001b[0m \u001b[32m288.1/288.1 kB\u001b[0m \u001b[31m22.3 MB/s\u001b[0m eta \u001b[36m0:00:00\u001b[0m\n",
            "\u001b[2K     \u001b[90m━━━━━━━━━━━━━━━━━━━━━━━━━━━━━━━━━━━━━━━━\u001b[0m \u001b[32m75.4/75.4 kB\u001b[0m \u001b[31m7.1 MB/s\u001b[0m eta \u001b[36m0:00:00\u001b[0m\n",
            "\u001b[2K     \u001b[90m━━━━━━━━━━━━━━━━━━━━━━━━━━━━━━━━━━━━━━━━\u001b[0m \u001b[32m50.5/50.5 kB\u001b[0m \u001b[31m3.0 MB/s\u001b[0m eta \u001b[36m0:00:00\u001b[0m\n",
            "\u001b[2K     \u001b[90m━━━━━━━━━━━━━━━━━━━━━━━━━━━━━━━━━━━━━━\u001b[0m \u001b[32m136.6/136.6 kB\u001b[0m \u001b[31m14.1 MB/s\u001b[0m eta \u001b[36m0:00:00\u001b[0m\n",
            "\u001b[2K     \u001b[90m━━━━━━━━━━━━━━━━━━━━━━━━━━━━━━━━━━━━━━━━\u001b[0m \u001b[32m45.7/45.7 kB\u001b[0m \u001b[31m3.2 MB/s\u001b[0m eta \u001b[36m0:00:00\u001b[0m\n",
            "\u001b[2K     \u001b[90m━━━━━━━━━━━━━━━━━━━━━━━━━━━━━━━━━━━━━━━━\u001b[0m \u001b[32m58.3/58.3 kB\u001b[0m \u001b[31m5.4 MB/s\u001b[0m eta \u001b[36m0:00:00\u001b[0m\n",
            "\u001b[2K     \u001b[90m━━━━━━━━━━━━━━━━━━━━━━━━━━━━━━━━━━━━━━\u001b[0m \u001b[32m129.9/129.9 kB\u001b[0m \u001b[31m14.8 MB/s\u001b[0m eta \u001b[36m0:00:00\u001b[0m\n",
            "\u001b[2K     \u001b[90m━━━━━━━━━━━━━━━━━━━━━━━━━━━━━━━━━━━━━━━━\u001b[0m \u001b[32m58.3/58.3 kB\u001b[0m \u001b[31m5.4 MB/s\u001b[0m eta \u001b[36m0:00:00\u001b[0m\n",
            "\u001b[2K     \u001b[90m━━━━━━━━━━━━━━━━━━━━━━━━━━━━━━━━━━━━━━\u001b[0m \u001b[32m114.5/114.5 kB\u001b[0m \u001b[31m11.5 MB/s\u001b[0m eta \u001b[36m0:00:00\u001b[0m\n",
            "\u001b[2K     \u001b[90m━━━━━━━━━━━━━━━━━━━━━━━━━━━━━━━━━━━━━━\u001b[0m \u001b[32m268.8/268.8 kB\u001b[0m \u001b[31m22.1 MB/s\u001b[0m eta \u001b[36m0:00:00\u001b[0m\n",
            "\u001b[2K     \u001b[90m━━━━━━━━━━━━━━━━━━━━━━━━━━━━━━━━━━━━━━\u001b[0m \u001b[32m149.6/149.6 kB\u001b[0m \u001b[31m14.2 MB/s\u001b[0m eta \u001b[36m0:00:00\u001b[0m\n",
            "\u001b[2K     \u001b[90m━━━━━━━━━━━━━━━━━━━━━━━━━━━━━━━━━━━━━━━━\u001b[0m \u001b[32m67.0/67.0 kB\u001b[0m \u001b[31m6.5 MB/s\u001b[0m eta \u001b[36m0:00:00\u001b[0m\n",
            "\u001b[2K     \u001b[90m━━━━━━━━━━━━━━━━━━━━━━━━━━━━━━━━━━━━━━━━\u001b[0m \u001b[32m72.5/72.5 kB\u001b[0m \u001b[31m7.8 MB/s\u001b[0m eta \u001b[36m0:00:00\u001b[0m\n",
            "\u001b[?25h  Building wheel for ffmpy (setup.py) ... \u001b[?25l\u001b[?25hdone\n",
            "Gradio version: 3.32.0\n"
          ]
        }
      ]
    },
    {
      "cell_type": "code",
      "source": [
        "import gradio as gr\n",
        "\n",
        "# Create title, description, and article strings\n",
        "title = \"PCOS Detector\"\n",
        "description = \"A DenseNet121 feature extractor computer vision model to classify ultrasound images of ovaries into PCOS infected or not infected.\"\n",
        "\n",
        "# Create the Gradio demo\n",
        "demo = gr.Interface(fn=predict, # mapping function from input to output\n",
        "                    inputs=gr.Image(type=\"pil\"),\n",
        "                    outputs=[gr.Label(label=\"Model Prediction\"),\n",
        "                             gr.Number(label=\"Prediction time (s)\")], # our fn has two outputs, therefore we have two outputs\n",
        "                    examples=example_list,\n",
        "                    title=title,\n",
        "                    description=description)\n",
        "\n",
        "# Launch the demo!\n",
        "demo.launch(debug=False, # print errors locally?\n",
        "            share=True) # generate a publically shareable URL"
      ],
      "metadata": {
        "colab": {
          "base_uri": "https://localhost:8080/",
          "height": 592
        },
        "id": "ILl5V7ewh3S8",
        "outputId": "9d5d5954-3816-44f8-8dd4-6c907dd28ad5"
      },
      "execution_count": null,
      "outputs": [
        {
          "output_type": "stream",
          "name": "stdout",
          "text": [
            "Colab notebook detected. To show errors in colab notebook, set debug=True in launch()\n",
            "Running on public URL: https://020041309762aa4656.gradio.live\n",
            "\n",
            "This share link expires in 72 hours. For free permanent hosting and GPU upgrades (NEW!), check out Spaces: https://huggingface.co/spaces\n"
          ]
        },
        {
          "output_type": "display_data",
          "data": {
            "text/plain": [
              "<IPython.core.display.HTML object>"
            ],
            "text/html": [
              "<div><iframe src=\"https://020041309762aa4656.gradio.live\" width=\"100%\" height=\"500\" allow=\"autoplay; camera; microphone; clipboard-read; clipboard-write;\" frameborder=\"0\" allowfullscreen></iframe></div>"
            ]
          },
          "metadata": {}
        },
        {
          "output_type": "execute_result",
          "data": {
            "text/plain": []
          },
          "metadata": {},
          "execution_count": 36
        }
      ]
    },
    {
      "cell_type": "markdown",
      "source": [
        "# Turning the Gradio demo into a deployable app.\n",
        "## To make the Gradio demo permanent, we can package it into an app and upload it to Hugging Face Spaces.\n",
        "### Hugging Face Spaces is a resource that allows us to host and share machine learning apps. Building a demo is one of the best ways to showcase and test what we've done. And spaces allows us to do just that. We can think of Hugging Face as the GitHub of machine learning. If having a good GitHub portfolio showcases our coding abilities, having a good Hugging Face portfolio can showcase our machine learning abilities.\n",
        "> Note: There are many other places we could upload and host our Gradio app such as, Google Cloud, AWS (Amazon Web Services) or other cloud vendors, however, we're going to use Hugging Face Spaces due to the ease of use and wide adoption by the machine learning community.\n",
        "\n"
      ],
      "metadata": {
        "id": "12SGEqLnrAED"
      }
    },
    {
      "cell_type": "markdown",
      "source": [
        "# File structure for deployed Gradio app\n",
        "## To upload our demo Gradio app, we'll want to put everything relating to it into a single directory. <br> For example, our demo might live at the path `demos/foodvision_mini/` with the file structure:\n",
        "```\n",
        "demos/\n",
        "└── foodvision_mini/\n",
        "    ├── 09_pretrained_effnetb2_feature_extractor_pizza_steak_sushi_20_percent.pth\n",
        "    ├── app.py\n",
        "    ├── examples/\n",
        "    │   ├── example_1.jpg\n",
        "    │   ├── example_2.jpg\n",
        "    │   └── example_3.jpg\n",
        "    ├── model.py\n",
        "    └── requirements.txt\n",
        "```\n",
        "## Where:\n",
        "* `09_pretrained_effnetb2_feature_extractor_pizza_steak_sushi_20_percent.pth` is our trained PyTorch model file.\n",
        "* `app.py` contains our code that was used to implement the Gradio interface.\n",
        ">Note: app.py is the default filename used for Hugging Face Spaces, if you deploy your app there, Spaces will by default look for a file called app.py to run. This is changable in settings.\n",
        "* `examples/` contains example images to use our Gradio app.\n",
        "* `model.py` contains the model defintion as well as any transforms associated with the model.\n",
        "* `requirements.txt` contains the dependencies to run our app such as `torch`, `torchvision` and `gradio`."
      ],
      "metadata": {
        "id": "WUshXeKX0pBA"
      }
    },
    {
      "cell_type": "markdown",
      "source": [
        "# Creating a `demos` folder to store our app files\n",
        "## To begin, let's first create a `demos` directory to store all of our app files.\n",
        "## We can do with Python's `pathlib.Path(\"path_to_dir\")` to establish the directory path and `pathlib.Path(\"path_to_dir\").mkdir()` to create it."
      ],
      "metadata": {
        "id": "okM6_y1Q7BdH"
      }
    },
    {
      "cell_type": "code",
      "source": [
        "import shutil\n",
        "from pathlib import Path\n",
        "\n",
        "# Create PCOS detector demo path\n",
        "PCOS_detector_demo_path = Path(\"demos/PCOS_detector/\")\n",
        "\n",
        "# Remove files that might already exist there and create new directory\n",
        "if PCOS_detector_demo_path.exists():\n",
        "  shutil.rmtree(PCOS_detector_demo_path)\n",
        "  PCOS_detector_demo_path.mkdir(parents=True, # make the parent folders `demos` and `PCOS_detector`\n",
        "                                exist_ok=True) # Create it even if it already exists\n",
        "else:\n",
        "  # If the file doesn't exist, create it anyway\n",
        "  PCOS_detector_demo_path.mkdir(parents=True,\n",
        "                                exist_ok=True)\n",
        "\n",
        "# Check what's insside the folder\n",
        "!ls demos/PCOS_detector/"
      ],
      "metadata": {
        "id": "VDScHS8R5e-c"
      },
      "execution_count": null,
      "outputs": []
    },
    {
      "cell_type": "markdown",
      "source": [
        "# Creating a folder of example images to use with our PCOS_detector demo\n",
        "## Now that we've got a directory to store our PCOS_detector files, let's add some examples to it. <br> Three example images from the test dataset should be enough. <br> To do so we'll:\n",
        "1. Create an `examples/` directory within the `demos/PCOS_detector` directory\n",
        "2. Choose three random images from the test dataset and collect their filepaths in a list\n",
        "3. Copy the three images from the test dataset to the `demos/PCOS_detector/examples/` directory"
      ],
      "metadata": {
        "id": "Iu8W1EeMArk0"
      }
    },
    {
      "cell_type": "code",
      "source": [
        "import shutil\n",
        "from pathlib import Path\n",
        "\n",
        "# 1. Create an examples directory\n",
        "PCOS_detector_examples_path = PCOS_detector_demo_path / \"examples\"\n",
        "PCOS_detector_examples_path.mkdir(parents=True, exist_ok=True)\n",
        "\n",
        "# 2. Collect three random test dataset image paths\n",
        "PCOS_detector_examples = [Path('/content/driveG/MyDrive/GP1/After_Research_paper/DenseNet_Reimagined/newER_data/validation/infected/18_pco_4.jpg'),\n",
        "                          Path('/content/driveG/MyDrive/GP1/After_Research_paper/DenseNet_Reimagined/newER_data/validation/infected/16_pco_7.jpg'),\n",
        "                          Path('/content/driveG/MyDrive/GP1/After_Research_paper/DenseNet_Reimagined/newER_data/validation/notinfected/2_normal_21.jpg')]\n",
        "\n",
        "# 3. Copy the three images to the examples directory\n",
        "for example in PCOS_detector_examples:\n",
        "  destination = PCOS_detector_examples_path / example.name\n",
        "  print(f\"[INFO] Copying {example} to {destination}\")\n",
        "  shutil.copy2(src=example, dst=destination)"
      ],
      "metadata": {
        "id": "lwwscVFrAbxE",
        "colab": {
          "base_uri": "https://localhost:8080/"
        },
        "outputId": "3282aa01-6141-44c7-befb-cc0210169584"
      },
      "execution_count": null,
      "outputs": [
        {
          "output_type": "stream",
          "name": "stdout",
          "text": [
            "[INFO] Copying /content/driveG/MyDrive/GP1/After_Research_paper/DenseNet_Reimagined/newER_data/validation/infected/18_pco_4.jpg to demos/PCOS_detector/examples/18_pco_4.jpg\n",
            "[INFO] Copying /content/driveG/MyDrive/GP1/After_Research_paper/DenseNet_Reimagined/newER_data/validation/infected/16_pco_7.jpg to demos/PCOS_detector/examples/16_pco_7.jpg\n",
            "[INFO] Copying /content/driveG/MyDrive/GP1/After_Research_paper/DenseNet_Reimagined/newER_data/validation/notinfected/2_normal_21.jpg to demos/PCOS_detector/examples/2_normal_21.jpg\n"
          ]
        }
      ]
    },
    {
      "cell_type": "markdown",
      "source": [
        "## Now to verify that our examples are present, let's list the contents of our `demos/PCOS_detector/examples/` directory with `os.listdir()` and then format the filepaths into a list of lists (so that its compatible with Gradio's `gradio.Interface()` `example` paramter)."
      ],
      "metadata": {
        "id": "H4A_UYtvIMva"
      }
    },
    {
      "cell_type": "code",
      "source": [
        "import os\n",
        "\n",
        "# Get example filepaths in a list of lists\n",
        "example_list = [[\"examples/\" + example] for example in os.listdir(PCOS_detector_examples_path)]\n",
        "example_list"
      ],
      "metadata": {
        "id": "8_H7qEDvKKRB",
        "colab": {
          "base_uri": "https://localhost:8080/"
        },
        "outputId": "325f3224-e3b2-461c-ffdf-a912c07714eb"
      },
      "execution_count": null,
      "outputs": [
        {
          "output_type": "execute_result",
          "data": {
            "text/plain": [
              "[['examples/16_pco_7.jpg'],\n",
              " ['examples/2_normal_21.jpg'],\n",
              " ['examples/18_pco_4.jpg']]"
            ]
          },
          "metadata": {},
          "execution_count": 39
        }
      ]
    },
    {
      "cell_type": "markdown",
      "source": [
        "# Moving our trained DenseNet121 model to our demo directory\n",
        "## We previously saved our DenseNet121 feature extractor under `/content/driveG/MyDrive/GP2/GP2_timm/DenseNet121d_22_From_Scratch_model0.pth` <br> Let's copy our saved model to our `demos/PCOS_detector` directory. <br> We can do so using Python's `shutil.copy2()` method and passing in `src` (source path of the target file) and `dst` (destination path pf the target path to be copied to) parameters."
      ],
      "metadata": {
        "id": "O2Znp4MbL9hK"
      }
    },
    {
      "cell_type": "code",
      "source": [
        "import shutil\n",
        "\n",
        "# Create a source path for our target model\n",
        "Dense121_PCOS_detector_path = \"/content/driveG/MyDrive/GP2/GP2_timm/DenseNet121d_22_From_Scratch_model0.pth\"\n",
        "\n",
        "# Create a destination path for our target model\n",
        "Dense121_PCOS_detector_destination = PCOS_detector_demo_path / Dense121_PCOS_detector_path.split(\"/\")[6]\n",
        "\n",
        "# Try to copy the file\n",
        "try:\n",
        "  print(f\"[INFO] Attempting to copy {Dense121_PCOS_detector_path} to {Dense121_PCOS_detector_destination}\")\n",
        "\n",
        "  # Copy the model\n",
        "  shutil.copy2(src=Dense121_PCOS_detector_path,\n",
        "               dst=Dense121_PCOS_detector_destination)\n",
        "\n",
        "  print(f\"[INFO] Model move complete.\")\n",
        "\n",
        "# If the model has already been copied, check if it exists\n",
        "except:\n",
        "  print(f\"[INFO] Model exists at {Dense121_PCOS_detector_destination}: {Dense121_PCOS_detector_destination.exists()}\")"
      ],
      "metadata": {
        "id": "sH8QfbEdOhz1",
        "colab": {
          "base_uri": "https://localhost:8080/"
        },
        "outputId": "e6cebc68-cda3-4555-a240-c3b1af0ab143"
      },
      "execution_count": null,
      "outputs": [
        {
          "output_type": "stream",
          "name": "stdout",
          "text": [
            "[INFO] Attempting to copy /content/driveG/MyDrive/GP2/GP2_timm/DenseNet121d_22_From_Scratch_model0.pth to demos/PCOS_detector/DenseNet121d_22_From_Scratch_model0.pth\n",
            "[INFO] Model move complete.\n"
          ]
        }
      ]
    },
    {
      "cell_type": "markdown",
      "source": [
        "# Turning our trained DenseNet121 model into a Python script (`model.py`)\n",
        "## Our current model is saved to `demos/PCOS_detector/DenseNet121d_22_From_Scratch_model0.pth`. <br> To load it in, we can use `torch.load()`. <br> But before we can do this, we need to to instantiate a `model`. <br> To do this in a modular fashion, we'll create a script called `model.py` which contains `create_DenseNet121_model()` function that will instantiate a DenseNet121 model. <br> This way we can import the function in another script (`app.py`) and then use it to create our DenseNet121 `model` instance as well as get appropriate transforms. <br> We'll use the `%%writefile path/to/file` magic command to turn a cell of code into a file (pyhton script .py file)."
      ],
      "metadata": {
        "id": "zXQKHs0YWrI5"
      }
    },
    {
      "cell_type": "code",
      "source": [
        "%%writefile demos/PCOS_detector/model.py\n",
        "#!pip install timm==0.6.13\n",
        "import torch\n",
        "import timm\n",
        "\n",
        "from torchvision import transforms\n",
        "\n",
        "def create_DenseNet121_model(): # Returns trained DenseNet121 model and its transforms\n",
        "  model_file = \"demos/PCOS_detector/DenseNet121d_22_From_Scratch_model0.pth\"\n",
        "  model = torch.load(model_file, map_location=torch.device('cpu'))\n",
        "\n",
        "  transforms = transforms.Compose([\n",
        "    transforms.Resize((224, 224)), # 1. Reshape all images to 224x224\n",
        "    transforms.ToTensor(), # Turn pixel values to between 0 & 1\n",
        "    transforms.Normalize(mean=[0.485, 0.456, 0.406], # 3. A mean of [0.485, 0.456, 0.406] (across each colour channel)\n",
        "                         std=[0.229, 0.224, 0.225]), # 4. A standard deviation of [0.229, 0.224, 0.225] (across each colour channel)\n",
        "    transforms.Grayscale() ##### change number of color channels from 3 to 1 (I added this)\n",
        "  ])\n",
        "\n",
        "  return model, transforms"
      ],
      "metadata": {
        "id": "gQXYo0mIWqeN",
        "colab": {
          "base_uri": "https://localhost:8080/"
        },
        "outputId": "d54051a7-5ff6-4a52-9c86-5c50a8c91935"
      },
      "execution_count": null,
      "outputs": [
        {
          "output_type": "stream",
          "name": "stdout",
          "text": [
            "Writing demos/PCOS_detector/model.py\n"
          ]
        }
      ]
    },
    {
      "cell_type": "markdown",
      "source": [
        "# Turning our PCOS_detector Gradio app into a Python script (`app.py`)\n",
        "## We've now got a `model.py` script. Time to construct `app.py`. <br> We call it `app.py` because by default when you create a HuggingFace Space, it looks for a file called `app.py` to run and host (this can be changed in settings). <br> Our `app.py` script will put together all of the pieces of the puzzle to create our Gradio demo and will have four main parts:\n",
        "1. **Imports and class names setup** - Here we'll import the various dependencies for our demo including the `create_DenseNet121_model()` function from `model.py` as well as setup the different class names for our PCOS_detector app.\n",
        "2. **Model and transforms preparation** - Here we'll create an DenseNet121 model instance along with the transforms to go with it.\n",
        "3. **Predict function** - Gradio's `gradio.Interface()` takes a `fn` parameter to map inputs to outputs, our `predict()` function will be the same as the one we defined above previously in previous sections. It will take an UT image and then use the loaded transforms to preprocess it before using the loaded model to make a prediction on it.\n",
        "> Note: we'll have to create the example list on the fly via the `examples` parameter. We can do so by creating a list of the files inside the `examples/` directory with: `[[\"examples/\" + example] for example in os.listdir(\"examples\")]`.\n",
        "4. **Gradio app** - This is where the main logic of our demo will live, we'll create a `gradio.Interface()` instance called `demo` to put together our inputs, `predict()` function and outputs. And we'll finish the script by calling `demo.launch()` to launch our PCOS_detector demo."
      ],
      "metadata": {
        "id": "DnwoFxehziSZ"
      }
    },
    {
      "cell_type": "code",
      "source": [
        "%%writefile demos/PCOS_detector/app.py\n",
        "### 1. Imports and class names setup ###\n",
        "import gradio as gr\n",
        "import os\n",
        "import torch\n",
        "\n",
        "from model import create_DenseNet121_model\n",
        "from timeit import default_timer as timer\n",
        "from typing import Tuple, Dict\n",
        "\n",
        "# Setup class names\n",
        "class_names = ['infected', 'notinfected']\n",
        "\n",
        "### 2. Model and transforms preparation ###\n",
        "\n",
        "# Create an instance of trained DenseNet121 model\n",
        "Dense121, transforms = create_DenseNet121_model()\n",
        "\n",
        "### 3. Predict function ###\n",
        "\n",
        "# Create predict function\n",
        "def predict(img) -> Tuple[Dict, float]:\n",
        "  \"\"\"\n",
        "  Transforms and performs a prediction on img then returns prediction and time taken\n",
        "  \"\"\"\n",
        "  # Start the timer\n",
        "  start_time = timer()\n",
        "\n",
        "  # Transform the target image and add a batch dimension\n",
        "  img = transforms(img).unsqueeze(0)\n",
        "\n",
        "  # Put model into evaluation mode and turn on the inference mode\n",
        "  Dense121.eval()\n",
        "  with torch.inference_mode():\n",
        "    # Pass the transformed image through the model and turn the prediction logit intp prediction probability\n",
        "    pred_logit = Dense121(img).squeeze()\n",
        "    pred_prob = torch.sigmoid(pred_logit)\n",
        "    pred_label = torch.round(pred_prob)\n",
        "    pred_label = pred_label.type(torch.int64)\n",
        "    pred_class = class_names[pred_label.cpu()]\n",
        "    # pred_prob = float(pred_prob) # This line and next one are for formatting the pred_prob to print only 4 decimal places\n",
        "    # pred_prob = round(pred_prob, 4)\n",
        "\n",
        "  # Create a prediction label and prediction probability dictionary for each prediction class (this is the required format for Gradio's output parameter)\n",
        "  pred_label = pred_class\n",
        "\n",
        "  # Calculate the prediction time\n",
        "  pred_time = round(timer() - start_time, 5)\n",
        "\n",
        "  # Return the prediction dictionary and prediction time\n",
        "  return pred_label, pred_time\n",
        "\n",
        "### 4. Gradio app ###\n",
        "\n",
        "# Create title and description strings\n",
        "title = \"PCOS Detector in Ultrasound Images\"\n",
        "description = \"A DenseNet121 feature extractor computer vision model trained from scratch to classify ultrasound images of ovaries into PCOS infected or not infected.\"\n",
        "article= \"Code implementation available at [GitHub](https://github.com/haidary99?tab=repositories)\"\n",
        "\n",
        "# Create examples list from \"examples/\" directory\n",
        "example_list = [[\"examples/\" + example] for example in os.listdir(\"examples\")]\n",
        "\n",
        "# Create the Gradio demo\n",
        "demo = gr.Interface(fn=predict, # mapping function from input to output\n",
        "                    inputs=gr.Image(type=\"pil\"),\n",
        "                    outputs=[gr.Label(label=\"Model Prediction\"),\n",
        "                             gr.Number(label=\"Prediction time (s)\")],\n",
        "                    # Create examples list from \"examples/\" directory\n",
        "                    examples=example_list,\n",
        "                    title=title,\n",
        "                    description=description,\n",
        "                    article=article)\n",
        "\n",
        "# Launch the demo\n",
        "demo.launch()"
      ],
      "metadata": {
        "id": "19X3NbeH57Ku",
        "colab": {
          "base_uri": "https://localhost:8080/"
        },
        "outputId": "5b7ce215-7e30-4e8e-e9e3-107b082a9b53"
      },
      "execution_count": null,
      "outputs": [
        {
          "output_type": "stream",
          "name": "stdout",
          "text": [
            "Writing demos/PCOS_detector/app.py\n"
          ]
        }
      ]
    },
    {
      "cell_type": "markdown",
      "source": [
        "# Creating a requirements file for PCOS_detector (`requirements.txt`)\n",
        "## The last file we need to create for our app is a `requirements.txt` file. <br> This will be a text file containing all the required dependencies for our demo. <br> When we deploy our demo app to Hugging Face Spaces, it will search through this file and install the dependencies we define so our app can run. <br> We only need four dependencies:\n",
        "1. torch==1.12.0\n",
        "2. torchvision==0.13.0\n",
        "3. gradio==3.1.4\n",
        "4. timm==0.6.13"
      ],
      "metadata": {
        "id": "uMuZO83adBNF"
      }
    },
    {
      "cell_type": "code",
      "source": [
        "%%writefile demos/PCOS_detector/requirements.txt\n",
        "torch==1.12.0\n",
        "torchvision==0.13.0\n",
        "gradio==3.1.4\n",
        "timm==0.6.13"
      ],
      "metadata": {
        "id": "ZkQ4bY9KeSL1",
        "colab": {
          "base_uri": "https://localhost:8080/"
        },
        "outputId": "7410fa2e-ee2d-4dd2-9144-141992433ff4"
      },
      "execution_count": null,
      "outputs": [
        {
          "output_type": "stream",
          "name": "stdout",
          "text": [
            "Writing demos/PCOS_detector/requirements.txt\n"
          ]
        }
      ]
    },
    {
      "cell_type": "markdown",
      "source": [
        "# Now we've got all the files we need to deploy our PCOS_detector demo."
      ],
      "metadata": {
        "id": "cw1PUIIdekA-"
      }
    },
    {
      "cell_type": "markdown",
      "source": [
        "# Deploying our PCOS detector app to Hugging Face Spaces:\n",
        "## We've got a file containing our PCOS detector demo, now how do we get it to run on Hugging Face Spaces? <br> There are two main options for uploading to a Hugging Face Space (also called Hugging Face repository):\n",
        "1. Uploading via the Hugging Face Web Interface (easiest)\n",
        "2. Uploading via the command line or terminal\n",
        "\n",
        "##We'll use option 2.\n",
        "> Note: To host anything on Hugging Face, you need to sign up for a free account."
      ],
      "metadata": {
        "id": "UMe67bNefAoO"
      }
    },
    {
      "cell_type": "markdown",
      "source": [
        "# Downloading our PCOS detector app files:\n",
        "## Let's check out the demo files we've got inside `demos/PCOS_detector`. <br> To do so we can use `!ls` command."
      ],
      "metadata": {
        "id": "0ArOwiHhj6N4"
      }
    },
    {
      "cell_type": "code",
      "source": [
        "!ls demos/PCOS_detector # lazm ytl3 hun 5 files"
      ],
      "metadata": {
        "id": "YCmauGKmkLC8",
        "colab": {
          "base_uri": "https://localhost:8080/"
        },
        "outputId": "8f123972-af96-4f90-a98e-eb96d352cb90"
      },
      "execution_count": null,
      "outputs": [
        {
          "output_type": "stream",
          "name": "stdout",
          "text": [
            "app.py\t\t\t\t\t examples  requirements.txt\n",
            "DenseNet121d_22_From_Scratch_model0.pth  model.py\n"
          ]
        }
      ]
    },
    {
      "cell_type": "markdown",
      "source": [
        "## These are all the files we've created. <br> To begin uploading our files to Hugging Face, let's download them from Google Colab first... <br> To do so, we'll first compress the files into a single zip folder via the command:\n",
        "`zip -r ../PCOS_detector.zip * -x \"*.pyc\" \"*.ipynb\" \"*__pycache__*\" \"*ipynb_checkpoints*\"`\n",
        "## Where:\n",
        "* `zip` command zips together the files in the following directory\n",
        "* `-r` stands for \"recursive\" as in go through all the files in the target directory\n",
        "* `../PCOS_detector.zip` is the target directory we'd like our files to be zipped to\n",
        "* `*` stands for all the files in the current directory\n",
        "* `-x` stands for \"exclude these files\"\n",
        "## We can download our zip file from Google Colab using `google.colab.files.download(\"demos/PCOS_detector.zip\")`"
      ],
      "metadata": {
        "id": "jR6py_vnkVtx"
      }
    },
    {
      "cell_type": "code",
      "source": [
        "# Change into and then zip the PCOS_detector folder but exclude certain files\n",
        "!cd demos/PCOS_detector && zip -r ../PCOS_detector.zip * -x \"*.pyc\" \"*.ipynb\" \"*__pycache__*\" \"*ipynb_checkpoints*\"\n",
        "\n",
        "# Download the zipped PCOS_detector app (if running in Google Colab)\n",
        "try:\n",
        "  from google.colab import files\n",
        "  files.download(\"demos/PCOS_detector.zip\")\n",
        "except:\n",
        "  print(\"Not running in Google Colab, can't use google.colab.files.download(), please manually download.\")"
      ],
      "metadata": {
        "id": "NNWWnuTpmC87",
        "colab": {
          "base_uri": "https://localhost:8080/",
          "height": 160
        },
        "outputId": "b89a7b12-1a9f-47c0-db7b-13065c745471"
      },
      "execution_count": null,
      "outputs": [
        {
          "output_type": "stream",
          "name": "stdout",
          "text": [
            "  adding: app.py (deflated 59%)\n",
            "  adding: DenseNet121d_22_From_Scratch_model0.pth (deflated 8%)\n",
            "  adding: examples/ (stored 0%)\n",
            "  adding: examples/16_pco_7.jpg (deflated 1%)\n",
            "  adding: examples/2_normal_21.jpg (deflated 1%)\n",
            "  adding: examples/18_pco_4.jpg (deflated 1%)\n",
            "  adding: model.py (deflated 48%)\n",
            "  adding: requirements.txt (deflated 8%)\n"
          ]
        },
        {
          "output_type": "display_data",
          "data": {
            "text/plain": [
              "<IPython.core.display.Javascript object>"
            ],
            "application/javascript": [
              "\n",
              "    async function download(id, filename, size) {\n",
              "      if (!google.colab.kernel.accessAllowed) {\n",
              "        return;\n",
              "      }\n",
              "      const div = document.createElement('div');\n",
              "      const label = document.createElement('label');\n",
              "      label.textContent = `Downloading \"${filename}\": `;\n",
              "      div.appendChild(label);\n",
              "      const progress = document.createElement('progress');\n",
              "      progress.max = size;\n",
              "      div.appendChild(progress);\n",
              "      document.body.appendChild(div);\n",
              "\n",
              "      const buffers = [];\n",
              "      let downloaded = 0;\n",
              "\n",
              "      const channel = await google.colab.kernel.comms.open(id);\n",
              "      // Send a message to notify the kernel that we're ready.\n",
              "      channel.send({})\n",
              "\n",
              "      for await (const message of channel.messages) {\n",
              "        // Send a message to notify the kernel that we're ready.\n",
              "        channel.send({})\n",
              "        if (message.buffers) {\n",
              "          for (const buffer of message.buffers) {\n",
              "            buffers.push(buffer);\n",
              "            downloaded += buffer.byteLength;\n",
              "            progress.value = downloaded;\n",
              "          }\n",
              "        }\n",
              "      }\n",
              "      const blob = new Blob(buffers, {type: 'application/binary'});\n",
              "      const a = document.createElement('a');\n",
              "      a.href = window.URL.createObjectURL(blob);\n",
              "      a.download = filename;\n",
              "      div.appendChild(a);\n",
              "      a.click();\n",
              "      div.remove();\n",
              "    }\n",
              "  "
            ]
          },
          "metadata": {}
        },
        {
          "output_type": "display_data",
          "data": {
            "text/plain": [
              "<IPython.core.display.Javascript object>"
            ],
            "application/javascript": [
              "download(\"download_4477e256-eccc-458e-b16a-2259fe078b3c\", \"PCOS_detector.zip\", 26283489)"
            ]
          },
          "metadata": {}
        }
      ]
    },
    {
      "cell_type": "markdown",
      "source": [
        "# Running our PCOS detector locally:\n",
        "## After downloading `PCOS_detector.zip` file, we can test it locally by:\n",
        "1. Unzipping the file\n",
        "2. Openinig terminal\n",
        "3. Changing into `PCOS_detector` directory (`cd PCOS_detector`)\n",
        "4. Creating an environemnt (`python3 -m venv env`)\n",
        "5. Activating the environment (`source env/bin/activate`)\n",
        "6. Installing the requirements(`pip install -r requirements.txt`)\n",
        "7. Run the app (`python3 app.py`)\n",
        "\n",
        "## This should result in a Gradio demo just like the one we built above running locally on your computer at a URL such as `http://127.0.0.1:7860/`\n",
        "\n",
        "> Note: If you run the app locally and you notice a flagged/ directory appear, it contains samples that have been \"flagged\". <br> For example, if someone tries the demo and the model produces an incorrect result, the sample can be \"flagged\" and reviewed for later."
      ],
      "metadata": {
        "id": "H9dbA4HClKH5"
      }
    },
    {
      "cell_type": "markdown",
      "source": [
        "# NOTE: FROM THIS POINT, I CONTINUED WORKING LOCALLY AND IT WORKED FLAWLESSLY ON A LOCAL HOST AFTER MINOR FEW TWEAKS TO THE CODE.![Screen Shot 2023-05-27 at 2.08.54 AM.png](data:image/png;base64,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)"
      ],
      "metadata": {
        "id": "5YgI31u1UZNr"
      }
    },
    {
      "cell_type": "markdown",
      "source": [
        "# After running the app like shown in the above image using the command: <br> `python3 app.py`, I copied the URL shown into the browser and the Gradio interface showed up as normal.\n",
        "# Now after verifying that our app works locally, we must upload the code files into Hugging Face Spaces for it to work permantently and can be accessed from anywhere."
      ],
      "metadata": {
        "id": "zH9bAXJ9Uvth"
      }
    }
  ]
}